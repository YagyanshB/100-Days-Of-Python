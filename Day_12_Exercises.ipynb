{
  "nbformat": 4,
  "nbformat_minor": 0,
  "metadata": {
    "colab": {
      "provenance": [],
      "authorship_tag": "ABX9TyPTVZzDuWjJPtbsbfwo4v62",
      "include_colab_link": true
    },
    "kernelspec": {
      "name": "python3",
      "display_name": "Python 3"
    },
    "language_info": {
      "name": "python"
    }
  },
  "cells": [
    {
      "cell_type": "markdown",
      "metadata": {
        "id": "view-in-github",
        "colab_type": "text"
      },
      "source": [
        "<a href=\"https://colab.research.google.com/github/YagyanshB/100-Days-Of-Python/blob/main/Day_12_Exercises.ipynb\" target=\"_parent\"><img src=\"https://colab.research.google.com/assets/colab-badge.svg\" alt=\"Open In Colab\"/></a>"
      ]
    },
    {
      "cell_type": "code",
      "execution_count": 1,
      "metadata": {
        "colab": {
          "base_uri": "https://localhost:8080/"
        },
        "id": "-X74KmwQH7vA",
        "outputId": "3a3ed6ff-1970-46b5-a440-cd154ae6abdf"
      },
      "outputs": [
        {
          "output_type": "stream",
          "name": "stdout",
          "text": [
            "2\n"
          ]
        }
      ],
      "source": [
        "# Local Scope\n",
        "\n",
        "def drink_potion():\n",
        "  potion_strength = 2\n",
        "  print(potion_strength)\n",
        "\n",
        "drink_potion()"
      ]
    },
    {
      "cell_type": "code",
      "source": [
        "# Global Scope\n",
        "\n",
        "player_health = 10\n",
        "\n",
        "def drink_potion():\n",
        "  potion_strength = 2\n",
        "  print(player_health)\n",
        "\n",
        "drink_potion()"
      ],
      "metadata": {
        "colab": {
          "base_uri": "https://localhost:8080/"
        },
        "id": "pOwCGOr9I0PM",
        "outputId": "cb02a7e1-16dc-4595-b7b5-e9f917342de1"
      },
      "execution_count": 2,
      "outputs": [
        {
          "output_type": "stream",
          "name": "stdout",
          "text": [
            "10\n"
          ]
        }
      ]
    },
    {
      "cell_type": "code",
      "source": [
        "# Modifying Global Scope\n",
        "\n",
        "enemies = 1\n",
        "\n",
        "def increase_enemies():\n",
        "  global enemies\n",
        "  enemies += 1\n",
        "  print(f\"The enemies has now increased by 1 to {enemies}\")\n",
        "\n",
        "\n",
        "increase_enemies()"
      ],
      "metadata": {
        "colab": {
          "base_uri": "https://localhost:8080/"
        },
        "id": "cPXS7fJNJK7T",
        "outputId": "0b845ac7-9e92-485a-bf02-dabb83d1fb13"
      },
      "execution_count": 4,
      "outputs": [
        {
          "output_type": "stream",
          "name": "stdout",
          "text": [
            "The enemies has now increased by 1 to 2\n"
          ]
        }
      ]
    },
    {
      "cell_type": "code",
      "source": [
        "enemies = 1\n",
        "\n",
        "def increase_enemies():\n",
        "  print(f\"enemies inside function is {enemies}.\")\n",
        "  return enemies + 1\n",
        "\n",
        "enemies = increase_enemies()\n",
        "print(f\"enemies outside function is {enemies}.\")\n"
      ],
      "metadata": {
        "colab": {
          "base_uri": "https://localhost:8080/"
        },
        "id": "Z67Zl8fcLfG4",
        "outputId": "318bface-5f92-4109-acdd-a92ec12176af"
      },
      "execution_count": 5,
      "outputs": [
        {
          "output_type": "stream",
          "name": "stdout",
          "text": [
            "enemies inside function is 1.\n",
            "enemies outside function is 2.\n"
          ]
        }
      ]
    },
    {
      "cell_type": "code",
      "source": [
        "# Python constants and global scope\n",
        "\n",
        "\n",
        "# Global constants\n",
        "\n",
        "PI = 3.14159\n",
        "URL = \"twitter.com\"\n",
        "TWITTER_HANDLE = \"@YagyanshB\""
      ],
      "metadata": {
        "id": "GI38DkkoQcMY"
      },
      "execution_count": 6,
      "outputs": []
    },
    {
      "cell_type": "code",
      "source": [],
      "metadata": {
        "id": "5bpyUZAnRtE0"
      },
      "execution_count": 6,
      "outputs": []
    }
  ]
}