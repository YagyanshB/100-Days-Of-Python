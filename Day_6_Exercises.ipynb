{
  "nbformat": 4,
  "nbformat_minor": 0,
  "metadata": {
    "colab": {
      "provenance": [],
      "authorship_tag": "ABX9TyOvPG++4SBo2IrStGUhxk40",
      "include_colab_link": true
    },
    "kernelspec": {
      "name": "python3",
      "display_name": "Python 3"
    },
    "language_info": {
      "name": "python"
    }
  },
  "cells": [
    {
      "cell_type": "markdown",
      "metadata": {
        "id": "view-in-github",
        "colab_type": "text"
      },
      "source": [
        "<a href=\"https://colab.research.google.com/github/YagyanshB/100-Days-Of-Python/blob/main/Day_6_Exercises.ipynb\" target=\"_parent\"><img src=\"https://colab.research.google.com/assets/colab-badge.svg\" alt=\"Open In Colab\"/></a>"
      ]
    },
    {
      "cell_type": "code",
      "execution_count": 1,
      "metadata": {
        "id": "pi2NB1_B0byh"
      },
      "outputs": [],
      "source": [
        "# Functions, Code Block and While Loops"
      ]
    },
    {
      "cell_type": "code",
      "source": [
        "# Creating a function\n",
        "\n",
        "def my_function():\n",
        "  print(\"Hello\")\n",
        "  print(\"Bye\")\n"
      ],
      "metadata": {
        "id": "s1K2EMFt0iv4"
      },
      "execution_count": 2,
      "outputs": []
    },
    {
      "cell_type": "code",
      "source": [
        "my_function()"
      ],
      "metadata": {
        "colab": {
          "base_uri": "https://localhost:8080/"
        },
        "id": "MTLb51pA1Av0",
        "outputId": "b3ca040c-263d-4968-9c88-ed1b64a5a697"
      },
      "execution_count": 3,
      "outputs": [
        {
          "output_type": "stream",
          "name": "stdout",
          "text": [
            "Hello\n",
            "Bye\n"
          ]
        }
      ]
    },
    {
      "cell_type": "code",
      "source": [
        "# Creting while loops\n",
        "\n",
        "while 5 > 3:\n",
        "  print(\"This will produce infinite lines of results\")"
      ],
      "metadata": {
        "id": "F5_K_CQC2coq"
      },
      "execution_count": null,
      "outputs": []
    },
    {
      "cell_type": "code",
      "source": [
        "# Program to calculate the sum of all numbers from 0 to n\n",
        "\n",
        "n = int(input(\"Please enter the digit you would like the summation till: \\n\"))\n",
        "\n",
        "sum = 0\n",
        "num = 0\n",
        "\n",
        "while num <= n:\n",
        "  sum += num\n",
        "  num += 1\n",
        "\n",
        "print(f\"The sum of all numbers from 0 to {n} is {sum}\")"
      ],
      "metadata": {
        "colab": {
          "base_uri": "https://localhost:8080/"
        },
        "id": "C8unXB5R2rIV",
        "outputId": "3b4b8313-91b8-4c4d-acfb-0fcf9896676c"
      },
      "execution_count": 9,
      "outputs": [
        {
          "output_type": "stream",
          "name": "stdout",
          "text": [
            "Please enter the digit you would like the summation till: \n",
            "10\n",
            "The sum of all numbers from 0 to 10 is 55\n"
          ]
        }
      ]
    },
    {
      "cell_type": "code",
      "source": [
        "# Program to calculate the sum of all numbers from 0 to n\n",
        "\n",
        "n = int(input(\"Please enter the digit you would like the summation till: \\n\"))\n",
        "\n",
        "sum = 0\n",
        "num = 0\n",
        "\n",
        "while num <= n:\n",
        "  sum += num\n",
        "  num += 1\n",
        "\n",
        "print(f\"The sum of all numbers from 0 to {n} is {sum}\")"
      ],
      "metadata": {
        "colab": {
          "base_uri": "https://localhost:8080/"
        },
        "id": "nXMisXhy3yM8",
        "outputId": "2a3f8313-04a9-4754-88ce-769adf36bd98"
      },
      "execution_count": 10,
      "outputs": [
        {
          "output_type": "stream",
          "name": "stdout",
          "text": [
            "Please enter the digit you would like the summation till: \n",
            "3\n",
            "The sum of all numbers from 0 to 3 is 6\n"
          ]
        }
      ]
    }
  ]
}