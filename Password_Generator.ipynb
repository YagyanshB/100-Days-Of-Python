{
  "nbformat": 4,
  "nbformat_minor": 0,
  "metadata": {
    "colab": {
      "provenance": [],
      "authorship_tag": "ABX9TyMVu2yhKI2LH/SWyeNmb7qo",
      "include_colab_link": true
    },
    "kernelspec": {
      "name": "python3",
      "display_name": "Python 3"
    },
    "language_info": {
      "name": "python"
    }
  },
  "cells": [
    {
      "cell_type": "markdown",
      "metadata": {
        "id": "view-in-github",
        "colab_type": "text"
      },
      "source": [
        "<a href=\"https://colab.research.google.com/github/YagyanshB/100-Days-Of-Python/blob/main/Password_Generator.ipynb\" target=\"_parent\"><img src=\"https://colab.research.google.com/assets/colab-badge.svg\" alt=\"Open In Colab\"/></a>"
      ]
    },
    {
      "cell_type": "code",
      "execution_count": 6,
      "metadata": {
        "colab": {
          "base_uri": "https://localhost:8080/"
        },
        "id": "IhivFg2lkeAo",
        "outputId": "47f8eee4-57a0-454b-f024-6cd54fab4f2b"
      },
      "outputs": [
        {
          "output_type": "stream",
          "name": "stdout",
          "text": [
            "Welcome to the Python Password Generator \n",
            "\n",
            "How many letters would you like your password to have?: \n",
            "1\n",
            "How many symbols would you like your password to have?: \n",
            "1\n",
            "How many numbers would you like your password to have?: \n",
            "1\n",
            "o&8\n"
          ]
        }
      ],
      "source": [
        "# Building a Python password generator\n",
        "\n",
        "import random\n",
        "import string\n",
        "\n",
        "letters = list(string.ascii_lowercase)\n",
        "\n",
        "symbols = [\"!\", \"#\", \"$\", \"%\", \"&\", \"(\", \")\", \"*\", \"+\"]\n",
        "\n",
        "nums = [\"0\",\"1\",\"2\",\"3\",\"4\",\"5\",\"6\",\"7\",\"8\",\"9\"]\n",
        "\n",
        "print(\"Welcome to the Python Password Generator \\n\")\n",
        "\n",
        "number_of_letters = int(input(\"How many letters would you like your password to have?: \\n\"))\n",
        "number_of_symbols = int(input(\"How many symbols would you like your password to have?: \\n\"))\n",
        "number_of_nums = int(input(\"How many numbers would you like your password to have?: \\n\"))\n",
        "\n",
        "password = \"\"\n",
        "\n",
        "for char in range(1, number_of_letters + 1):\n",
        "  random_char = random.choice(letters)\n",
        "  password += random_char\n",
        "\n",
        "for char in range(1, number_of_symbols + 1):\n",
        "  random_char = random.choice(symbols)\n",
        "  password += random_char\n",
        "\n",
        "for char in range(1, number_of_nums + 1):\n",
        "  random_char = random.choice(nums)\n",
        "  password += random_char\n",
        "\n",
        "print(password)"
      ]
    },
    {
      "cell_type": "code",
      "source": [
        "# Alernative Solution\n",
        "\n",
        "# Building a Python password generator\n",
        "\n",
        "import random\n",
        "import string\n",
        "\n",
        "letters = list(string.ascii_lowercase)\n",
        "\n",
        "symbols = [\"!\", \"#\", \"$\", \"%\", \"&\", \"(\", \")\", \"*\", \"+\"]\n",
        "\n",
        "nums = [\"0\",\"1\",\"2\",\"3\",\"4\",\"5\",\"6\",\"7\",\"8\",\"9\"]\n",
        "\n",
        "print(\"Welcome to the Python Password Generator \\n\")\n",
        "\n",
        "number_of_letters = int(input(\"How many letters would you like your password to have?: \\n\"))\n",
        "number_of_symbols = int(input(\"How many symbols would you like your password to have?: \\n\"))\n",
        "number_of_nums = int(input(\"How many numbers would you like your password to have?: \\n\"))\n",
        "\n",
        "password_list = []\n",
        "\n",
        "for char in range(1, number_of_letters + 1):\n",
        "  password_list += random.choice(letters)\n",
        "\n",
        "for char in range(1, number_of_symbols + 1):\n",
        "  password_list += random.choice(symbols)\n",
        "\n",
        "for char in range(1, number_of_nums + 1):\n",
        "  password_list += random.choice(nums)\n",
        "\n",
        "random.shuffle(password_list)\n",
        "\n",
        "password = \"\"\n",
        "\n",
        "for char in password_list:\n",
        "  password += char\n",
        "\n",
        "print(f\"The suggested password for you is {password}.\")\n"
      ],
      "metadata": {
        "colab": {
          "base_uri": "https://localhost:8080/"
        },
        "id": "BVrJQuDjk6Qj",
        "outputId": "73b4c32e-af6d-4009-b21b-258b8fdf7858"
      },
      "execution_count": 11,
      "outputs": [
        {
          "output_type": "stream",
          "name": "stdout",
          "text": [
            "Welcome to the Python Password Generator \n",
            "\n",
            "How many letters would you like your password to have?: \n",
            "4\n",
            "How many symbols would you like your password to have?: \n",
            "4\n",
            "How many numbers would you like your password to have?: \n",
            "4\n",
            "The suggested password for you is +y4*rh64)8*x.\n"
          ]
        }
      ]
    },
    {
      "cell_type": "code",
      "source": [
        "4"
      ],
      "metadata": {
        "id": "Fxaj_O2DnnEL"
      },
      "execution_count": null,
      "outputs": []
    }
  ]
}