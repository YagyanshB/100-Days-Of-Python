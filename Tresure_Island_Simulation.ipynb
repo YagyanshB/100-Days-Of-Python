{
  "nbformat": 4,
  "nbformat_minor": 0,
  "metadata": {
    "colab": {
      "provenance": [],
      "authorship_tag": "ABX9TyNTkNVsk/ROzRJ/d1bCTCcR",
      "include_colab_link": true
    },
    "kernelspec": {
      "name": "python3",
      "display_name": "Python 3"
    },
    "language_info": {
      "name": "python"
    }
  },
  "cells": [
    {
      "cell_type": "markdown",
      "metadata": {
        "id": "view-in-github",
        "colab_type": "text"
      },
      "source": [
        "<a href=\"https://colab.research.google.com/github/YagyanshB/100-Days-Of-Python/blob/main/Tresure_Island_Simulation.ipynb\" target=\"_parent\"><img src=\"https://colab.research.google.com/assets/colab-badge.svg\" alt=\"Open In Colab\"/></a>"
      ]
    },
    {
      "cell_type": "code",
      "execution_count": 7,
      "metadata": {
        "colab": {
          "base_uri": "https://localhost:8080/"
        },
        "id": "AW5aqyVbWaTy",
        "outputId": "4dcd5611-937f-4c6d-f636-37dc050b801c"
      },
      "outputs": [
        {
          "output_type": "stream",
          "name": "stdout",
          "text": [
            "Hello Voyagers! \n",
            "\n",
            "Welcome to the Treasure Island! \n",
            "Your mission is to find the hidden treasure.\n",
            "\n",
            "Which option would you like to proceed with 'left' or 'right': \n",
            "left\n",
            "Which option would you like to proceed with 'swim' or 'wait': \n",
            "wait\n",
            "Which door would you like to proceed with 'r', 'b' or 'y': \n",
            "y\n",
            "You chose the right opton; you have won the entire game.\n"
          ]
        }
      ],
      "source": [
        "# Building a Treasure Island Simulation Program using Python\n",
        "\n",
        "print(\"Hello Voyagers! \\n\")\n",
        "print(\"Welcome to the Treasure Island! \\nYour mission is to find the hidden treasure.\\n\")\n",
        "\n",
        "choice_one = input(\"Which option would you like to proceed with 'left' or 'right': \\n\")\n",
        "\n",
        "if choice_one == \"left\":\n",
        "  choice_two = input(\"Which option would you like to proceed with 'swim' or 'wait': \\n\")\n",
        "  if choice_two == \"wait\":\n",
        "    choice_three = input(\"Which door would you like to proceed with 'r', 'b' or 'y': \\n\")\n",
        "    if choice_three == \"r\":\n",
        "      print(\"You chose the wrong option; your game ends here.\")\n",
        "    elif choice_three == \"y\":\n",
        "      print(\"You chose the right opton; you have won the entire game.\")\n",
        "    elif choice_three == \"b\":\n",
        "      print(\"You chose the wrong option; your game ends here.\")\n",
        "    else:\n",
        "      print(\"You chose a door that doesn't exist.\")\n",
        "  else:\n",
        "    print(\"You got attacked by a shark; your game ends here.\")\n",
        "else:\n",
        "  print(\"You fell into a hole; your game ends here.\")\n",
        "\n",
        "\n"
      ]
    },
    {
      "cell_type": "code",
      "source": [],
      "metadata": {
        "id": "CJVx2rgXYTPX"
      },
      "execution_count": null,
      "outputs": []
    }
  ]
}