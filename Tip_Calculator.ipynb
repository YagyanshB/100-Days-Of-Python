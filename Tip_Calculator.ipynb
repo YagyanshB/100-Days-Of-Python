{
  "nbformat": 4,
  "nbformat_minor": 0,
  "metadata": {
    "colab": {
      "provenance": [],
      "authorship_tag": "ABX9TyOBfTMCR1Zo/t1UzDA8ycTF",
      "include_colab_link": true
    },
    "kernelspec": {
      "name": "python3",
      "display_name": "Python 3"
    },
    "language_info": {
      "name": "python"
    }
  },
  "cells": [
    {
      "cell_type": "markdown",
      "metadata": {
        "id": "view-in-github",
        "colab_type": "text"
      },
      "source": [
        "<a href=\"https://colab.research.google.com/github/YagyanshB/100-Days-Of-Python/blob/main/Tip_Calculator.ipynb\" target=\"_parent\"><img src=\"https://colab.research.google.com/assets/colab-badge.svg\" alt=\"Open In Colab\"/></a>"
      ]
    },
    {
      "cell_type": "code",
      "execution_count": 6,
      "metadata": {
        "colab": {
          "base_uri": "https://localhost:8080/"
        },
        "id": "gUAG4Mo8FPau",
        "outputId": "ffef200f-0d69-4967-df4e-fc5d165518f3"
      },
      "outputs": [
        {
          "output_type": "stream",
          "name": "stdout",
          "text": [
            "Welcome to the Tip & Bill Splitting Calculator: \n",
            "\n",
            "What was the total bill? \n",
            "1978.65\n",
            "What percent of tip would you like to add to the bill? 10, 15 or 20 \n",
            "15\n",
            "How many people would the bill be split between? \n",
            "19\n",
            "The total amount owed by each individual is 119.76.\n"
          ]
        }
      ],
      "source": [
        "# Creating a program to split the bill including tipping percentage\n",
        "\n",
        "print(\"Welcome to the Tip & Bill Splitting Calculator: \\n\")\n",
        "\n",
        "total_bill = float(input(\"What was the total bill? \\n\"))\n",
        "\n",
        "tipping_percentage = float(input(\"What percent of tip would you like to add to the bill? 10, 15 or 20 \\n\"))\n",
        "\n",
        "num_people = int(input(\"How many people would the bill be split between? \\n\"))\n",
        "\n",
        "bill_with_tip = total_bill + total_bill * tipping_percentage/100\n",
        "\n",
        "exact_amount = round(bill_with_tip/num_people,2)\n",
        "\n",
        "print(f\"The total amount owed by each individual is {exact_amount}.\")\n",
        "\n",
        "\n"
      ]
    }
  ]
}