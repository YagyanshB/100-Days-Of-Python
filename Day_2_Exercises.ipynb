{
  "nbformat": 4,
  "nbformat_minor": 0,
  "metadata": {
    "colab": {
      "provenance": [],
      "authorship_tag": "ABX9TyP9J/9y0CXmp4aw+gJ1lq1B",
      "include_colab_link": true
    },
    "kernelspec": {
      "name": "python3",
      "display_name": "Python 3"
    },
    "language_info": {
      "name": "python"
    }
  },
  "cells": [
    {
      "cell_type": "markdown",
      "metadata": {
        "id": "view-in-github",
        "colab_type": "text"
      },
      "source": [
        "<a href=\"https://colab.research.google.com/github/YagyanshB/100-Days-Of-Python/blob/main/Day_2_Exercises.ipynb\" target=\"_parent\"><img src=\"https://colab.research.google.com/assets/colab-badge.svg\" alt=\"Open In Colab\"/></a>"
      ]
    },
    {
      "cell_type": "code",
      "execution_count": 2,
      "metadata": {
        "colab": {
          "base_uri": "https://localhost:8080/"
        },
        "id": "u9SGSkbR8x6s",
        "outputId": "b446651d-aa20-428e-ee0c-ca8f95d09eba"
      },
      "outputs": [
        {
          "output_type": "stream",
          "name": "stdout",
          "text": [
            "5\n"
          ]
        }
      ],
      "source": [
        "print(len('12345'))"
      ]
    },
    {
      "cell_type": "code",
      "source": [
        "# Print ths second character in the string based on the index\n",
        "\n",
        "print(\"Hello\"[4])"
      ],
      "metadata": {
        "colab": {
          "base_uri": "https://localhost:8080/"
        },
        "id": "G4kM3Iyl8zyK",
        "outputId": "7f0d4d96-213c-4b6a-de23-45d4209cffc5"
      },
      "execution_count": 6,
      "outputs": [
        {
          "output_type": "stream",
          "name": "stdout",
          "text": [
            "o\n"
          ]
        }
      ]
    },
    {
      "cell_type": "code",
      "source": [
        "# Printing out integer data types\n",
        "\n",
        "print(123 + 456)"
      ],
      "metadata": {
        "colab": {
          "base_uri": "https://localhost:8080/"
        },
        "id": "Wjjqmbh19NKZ",
        "outputId": "e4dc8966-6d53-4214-b545-20dffcc99f22"
      },
      "execution_count": 7,
      "outputs": [
        {
          "output_type": "stream",
          "name": "stdout",
          "text": [
            "579\n"
          ]
        }
      ]
    },
    {
      "cell_type": "code",
      "source": [
        "# Checking the data type of a variable\n",
        "\n",
        "a = 123\n",
        "\n",
        "print(type(a))"
      ],
      "metadata": {
        "colab": {
          "base_uri": "https://localhost:8080/"
        },
        "id": "pXXxkSkv9jZ3",
        "outputId": "f9d7d4f8-6ef0-441a-d964-54e3cb3461cc"
      },
      "execution_count": 9,
      "outputs": [
        {
          "output_type": "stream",
          "name": "stdout",
          "text": [
            "<class 'int'>\n"
          ]
        }
      ]
    },
    {
      "cell_type": "code",
      "source": [
        "# Converting one data type to another\n",
        "\n",
        "a = str(123)\n",
        "a"
      ],
      "metadata": {
        "colab": {
          "base_uri": "https://localhost:8080/",
          "height": 35
        },
        "id": "VsnJA2vA-kyz",
        "outputId": "176355fb-2848-4a45-fcac-0e498bfcebce"
      },
      "execution_count": 10,
      "outputs": [
        {
          "output_type": "execute_result",
          "data": {
            "text/plain": [
              "'123'"
            ],
            "application/vnd.google.colaboratory.intrinsic+json": {
              "type": "string"
            }
          },
          "metadata": {},
          "execution_count": 10
        }
      ]
    },
    {
      "cell_type": "code",
      "source": [
        "two_digit_number = input(\"Please enter a two digit number of your choice: \\n\")\n",
        "\n",
        "first_digit = int(two_digit_number[0])\n",
        "second_digit = int(two_digit_number[1])\n",
        "\n",
        "sum_of_digits = first_digit + second_digit\n",
        "sum = str(sum_of_digits)\n",
        "\n",
        "print(\"The sum of your inputted digits is \" + sum + \".\")"
      ],
      "metadata": {
        "colab": {
          "base_uri": "https://localhost:8080/"
        },
        "id": "Vt04T2jP--qL",
        "outputId": "2a5f171d-1015-41aa-cddc-cac029706eea"
      },
      "execution_count": 17,
      "outputs": [
        {
          "output_type": "stream",
          "name": "stdout",
          "text": [
            "Please enter a two digit number of your choice: \n",
            "43\n",
            "The sum of your inputted digits is 7.\n"
          ]
        }
      ]
    },
    {
      "cell_type": "code",
      "source": [
        "# Building a program that calculates the Body Mass Index of an individual\n",
        "\n",
        "height = float(input(\"Please enter your height in metres: \\n\"))\n",
        "weight = float(input(\"Please enter your weight in kg: \\n\"))\n",
        "\n",
        "bmi = str(round(weight/(height*height),2))\n",
        "\n",
        "\n",
        "print(\"Your Body Mass Index is \" + bmi)"
      ],
      "metadata": {
        "colab": {
          "base_uri": "https://localhost:8080/"
        },
        "id": "zNcTe6z1_SYI",
        "outputId": "d97f6311-dd5d-4587-ee14-bbf54b6a9993"
      },
      "execution_count": 26,
      "outputs": [
        {
          "output_type": "stream",
          "name": "stdout",
          "text": [
            "Please enter your height in metres: \n",
            "1.80\n",
            "Please enter your weight in kg: \n",
            "78.6\n",
            "Your Body Mass Index is 24.26\n"
          ]
        }
      ]
    },
    {
      "cell_type": "code",
      "source": [
        "# Rounding up numbers\n",
        "\n",
        "print(round(8/3,2))"
      ],
      "metadata": {
        "colab": {
          "base_uri": "https://localhost:8080/"
        },
        "id": "JVfQJL2JA9Jf",
        "outputId": "8906d0a3-dc8c-4867-f9ac-2cc2df7b9b2e"
      },
      "execution_count": 27,
      "outputs": [
        {
          "output_type": "stream",
          "name": "stdout",
          "text": [
            "2.67\n"
          ]
        }
      ]
    },
    {
      "cell_type": "code",
      "source": [
        "# f Strings\n",
        "\n",
        "score = 0\n",
        "height = 1.80\n",
        "isSwimming = True\n",
        "\n",
        "print(f\"Your score is {score}, your height is {height} and you are winning is {isSwimming}.\")"
      ],
      "metadata": {
        "colab": {
          "base_uri": "https://localhost:8080/"
        },
        "id": "hs6yGkrsCtQ8",
        "outputId": "105b4b03-d6a8-42b5-9da9-635462707133"
      },
      "execution_count": 31,
      "outputs": [
        {
          "output_type": "stream",
          "name": "stdout",
          "text": [
            "Your score is 0, your height is 1.8 and you are winning is True.\n"
          ]
        }
      ]
    },
    {
      "cell_type": "code",
      "source": [
        "# Creating a program to calculate the number of weeks left\n",
        "\n",
        "age = int(input(\"Please enter your current age in years: \\n\"))\n",
        "\n",
        "number_of_weeks_90 = 90*52\n",
        "\n",
        "remaining_weeks = number_of_weeks_90 - (age*52)\n",
        "\n",
        "print(f\"You have {remaining_weeks} weeks remaining. Make sure to enjoy it to the fullest.\")"
      ],
      "metadata": {
        "colab": {
          "base_uri": "https://localhost:8080/"
        },
        "id": "oduBgWBoDVs6",
        "outputId": "5071b313-f1b8-440f-c86b-66e30d6498b5"
      },
      "execution_count": 33,
      "outputs": [
        {
          "output_type": "stream",
          "name": "stdout",
          "text": [
            "Please enter your current age in years: \n",
            "56\n",
            "You have 1768 weeks remaining. Make sure to enjoy it to the fullest.\n"
          ]
        }
      ]
    }
  ]
}