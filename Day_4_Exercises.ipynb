{
  "nbformat": 4,
  "nbformat_minor": 0,
  "metadata": {
    "colab": {
      "provenance": [],
      "authorship_tag": "ABX9TyNq2jD+XNOrPzjejGbRQy1O",
      "include_colab_link": true
    },
    "kernelspec": {
      "name": "python3",
      "display_name": "Python 3"
    },
    "language_info": {
      "name": "python"
    }
  },
  "cells": [
    {
      "cell_type": "markdown",
      "metadata": {
        "id": "view-in-github",
        "colab_type": "text"
      },
      "source": [
        "<a href=\"https://colab.research.google.com/github/YagyanshB/100-Days-Of-Python/blob/main/Day_4_Exercises.ipynb\" target=\"_parent\"><img src=\"https://colab.research.google.com/assets/colab-badge.svg\" alt=\"Open In Colab\"/></a>"
      ]
    },
    {
      "cell_type": "code",
      "execution_count": 1,
      "metadata": {
        "id": "19_9zUfHlwQG"
      },
      "outputs": [],
      "source": [
        "# Learning about Randomisation and Python Lists"
      ]
    },
    {
      "cell_type": "code",
      "source": [
        "import random as rand"
      ],
      "metadata": {
        "id": "WPAXyUAMl-tD"
      },
      "execution_count": 4,
      "outputs": []
    },
    {
      "cell_type": "code",
      "source": [
        "# Creating a Heads or Tails program\n",
        "\n",
        "print(\"Welcome to the Heads or Tails Program: \\n\")\n",
        "\n",
        "random_side = random.randint(0,1)\n",
        "\n",
        "if random_side == 0:\n",
        "  print(\"The computer asks you to choose Tails.\")\n",
        "else:\n",
        "  print(\"The computer asks you to choose Heads.\")\n"
      ],
      "metadata": {
        "colab": {
          "base_uri": "https://localhost:8080/"
        },
        "id": "6H5sDKeVmdrL",
        "outputId": "5aad93ef-26bb-4bc4-fddd-435325a9f415"
      },
      "execution_count": 17,
      "outputs": [
        {
          "output_type": "stream",
          "name": "stdout",
          "text": [
            "Welcome to the Heads or Tails Program: \n",
            "\n",
            "The computer asks you to choose Tails.\n"
          ]
        }
      ]
    },
    {
      "cell_type": "code",
      "source": [
        "# Lists\n",
        "\n",
        "# A list could be called as a data structure where you organize and store data in Python.\n",
        "\n",
        "fruits = [\"Apple\", \"Orange\"]\n",
        "fruits"
      ],
      "metadata": {
        "colab": {
          "base_uri": "https://localhost:8080/"
        },
        "id": "h6zYO4q8oQ-q",
        "outputId": "08f5166c-09eb-42f4-9818-e1f6bb036302"
      },
      "execution_count": 18,
      "outputs": [
        {
          "output_type": "execute_result",
          "data": {
            "text/plain": [
              "['Apple', 'Orange']"
            ]
          },
          "metadata": {},
          "execution_count": 18
        }
      ]
    },
    {
      "cell_type": "code",
      "source": [
        "fruits[0]"
      ],
      "metadata": {
        "colab": {
          "base_uri": "https://localhost:8080/",
          "height": 35
        },
        "id": "BqCNtbNPojER",
        "outputId": "2eb83c8b-ec1f-43fa-942b-efc854ed24ef"
      },
      "execution_count": 19,
      "outputs": [
        {
          "output_type": "execute_result",
          "data": {
            "text/plain": [
              "'Apple'"
            ],
            "application/vnd.google.colaboratory.intrinsic+json": {
              "type": "string"
            }
          },
          "metadata": {},
          "execution_count": 19
        }
      ]
    },
    {
      "cell_type": "code",
      "source": [
        "fruits[-1]"
      ],
      "metadata": {
        "colab": {
          "base_uri": "https://localhost:8080/",
          "height": 35
        },
        "id": "Vk26GvxOoj7u",
        "outputId": "7e9b7ce2-c7e8-4387-8931-738773d48af2"
      },
      "execution_count": 20,
      "outputs": [
        {
          "output_type": "execute_result",
          "data": {
            "text/plain": [
              "'Orange'"
            ],
            "application/vnd.google.colaboratory.intrinsic+json": {
              "type": "string"
            }
          },
          "metadata": {},
          "execution_count": 20
        }
      ]
    },
    {
      "cell_type": "code",
      "source": [
        "fruits.append(\"Mango\")"
      ],
      "metadata": {
        "id": "ux6vMMoqoljw"
      },
      "execution_count": 21,
      "outputs": []
    },
    {
      "cell_type": "code",
      "source": [
        "fruits"
      ],
      "metadata": {
        "colab": {
          "base_uri": "https://localhost:8080/"
        },
        "id": "AHW_-wM_o3Hc",
        "outputId": "1dac41b4-ecb9-4f85-fc7b-ad256eb4f632"
      },
      "execution_count": 22,
      "outputs": [
        {
          "output_type": "execute_result",
          "data": {
            "text/plain": [
              "['Apple', 'Orange', 'Mango']"
            ]
          },
          "metadata": {},
          "execution_count": 22
        }
      ]
    },
    {
      "cell_type": "code",
      "source": [
        "fruits.extend([\"Orange\", \"Guava\"])"
      ],
      "metadata": {
        "id": "OBfNmiPso3mc"
      },
      "execution_count": 23,
      "outputs": []
    },
    {
      "cell_type": "code",
      "source": [
        "fruits"
      ],
      "metadata": {
        "colab": {
          "base_uri": "https://localhost:8080/"
        },
        "id": "QPi8PSdepB9Y",
        "outputId": "cbb0a721-2356-472c-9620-0eafab390521"
      },
      "execution_count": 24,
      "outputs": [
        {
          "output_type": "execute_result",
          "data": {
            "text/plain": [
              "['Apple', 'Orange', 'Mango', 'Orange', 'Guava']"
            ]
          },
          "metadata": {},
          "execution_count": 24
        }
      ]
    },
    {
      "cell_type": "code",
      "source": [
        "fruits.pop(0)"
      ],
      "metadata": {
        "colab": {
          "base_uri": "https://localhost:8080/",
          "height": 35
        },
        "id": "2luRMUt8pCjG",
        "outputId": "e54e6bc4-8b2d-406b-bca6-4516439dd262"
      },
      "execution_count": 29,
      "outputs": [
        {
          "output_type": "execute_result",
          "data": {
            "text/plain": [
              "'Apple'"
            ],
            "application/vnd.google.colaboratory.intrinsic+json": {
              "type": "string"
            }
          },
          "metadata": {},
          "execution_count": 29
        }
      ]
    },
    {
      "cell_type": "code",
      "source": [
        "fruits"
      ],
      "metadata": {
        "colab": {
          "base_uri": "https://localhost:8080/"
        },
        "id": "1CPwCYCNpHnm",
        "outputId": "b6fb351b-360d-477a-b1de-c804a7682c3f"
      },
      "execution_count": 30,
      "outputs": [
        {
          "output_type": "execute_result",
          "data": {
            "text/plain": [
              "['Orange', 'Mango', 'Orange', 'Guava']"
            ]
          },
          "metadata": {},
          "execution_count": 30
        }
      ]
    },
    {
      "cell_type": "code",
      "source": [
        "names_string = \"A, B, C, D, E\"\n",
        "\n",
        "names = names_string.split(\", \")\n",
        "\n",
        "num_items = len(names)\n",
        "\n",
        "random_choice = random.randint(0, num_items - 1)\n",
        "\n",
        "person_who_will_pay = names[random_choice]\n",
        "\n",
        "print(person_who_will_pay)"
      ],
      "metadata": {
        "colab": {
          "base_uri": "https://localhost:8080/"
        },
        "id": "Jti4fc9YpUDw",
        "outputId": "fca76db5-9483-4053-b169-73e56d5d14f0"
      },
      "execution_count": 37,
      "outputs": [
        {
          "output_type": "stream",
          "name": "stdout",
          "text": [
            "D\n"
          ]
        }
      ]
    },
    {
      "cell_type": "code",
      "source": [
        "# Creating an interractive treasure map\n",
        "\n",
        "line1 = [\" \", \" \", \" \"]\n",
        "line2 = [\" \", \" \", \" \"]\n",
        "line3 = [\" \", \" \", \" \"]\n",
        "\n",
        "map = [line1, line2, line3]\n",
        "\n",
        "print(\"Hiding your treasure! X marks the spot.\")\n",
        "position = input()\n",
        "\n",
        "letter = position[0].lower()\n",
        "abc = [\"a\", \"b\", \"c\"]\n",
        "\n",
        "letter_index = abc.index(letter)\n",
        "number_index = int(position[-1]) - 1\n",
        "\n",
        "# We place the number index first because rows go first and then columns\n",
        "\n",
        "map[number_index][letter_index] = \"X\"\n",
        "\n",
        "print(f\"{line1}\\n{line2}\\n{line3}\")"
      ],
      "metadata": {
        "colab": {
          "base_uri": "https://localhost:8080/"
        },
        "id": "6rIFwWC_qULk",
        "outputId": "649f4550-37ab-4420-8070-9ad139413288"
      },
      "execution_count": 41,
      "outputs": [
        {
          "output_type": "stream",
          "name": "stdout",
          "text": [
            "A B C\n",
            "\n",
            "Hiding your treasure! X marks the spot.\n",
            "C2\n",
            "[' ', ' ', ' ']\n",
            "[' ', ' ', 'X']\n",
            "[' ', ' ', ' ']\n"
          ]
        }
      ]
    },
    {
      "cell_type": "code",
      "source": [],
      "metadata": {
        "id": "SviKTePTtOjS"
      },
      "execution_count": null,
      "outputs": []
    }
  ]
}