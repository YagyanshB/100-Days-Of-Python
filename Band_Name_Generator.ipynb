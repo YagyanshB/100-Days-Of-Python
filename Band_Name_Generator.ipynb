{
  "nbformat": 4,
  "nbformat_minor": 0,
  "metadata": {
    "colab": {
      "provenance": [],
      "authorship_tag": "ABX9TyPdFWdQZTdNgVLykPbiISrY",
      "include_colab_link": true
    },
    "kernelspec": {
      "name": "python3",
      "display_name": "Python 3"
    },
    "language_info": {
      "name": "python"
    }
  },
  "cells": [
    {
      "cell_type": "markdown",
      "metadata": {
        "id": "view-in-github",
        "colab_type": "text"
      },
      "source": [
        "<a href=\"https://colab.research.google.com/github/YagyanshB/100-Days-Of-Python/blob/main/Band_Name_Generator.ipynb\" target=\"_parent\"><img src=\"https://colab.research.google.com/assets/colab-badge.svg\" alt=\"Open In Colab\"/></a>"
      ]
    },
    {
      "cell_type": "code",
      "execution_count": 8,
      "metadata": {
        "colab": {
          "base_uri": "https://localhost:8080/"
        },
        "id": "EpgPBurhk11t",
        "outputId": "00c46dbd-442f-41a4-dc12-026f7cf38d1f"
      },
      "outputs": [
        {
          "output_type": "stream",
          "name": "stdout",
          "text": [
            "Hello!\n",
            "Welcome To The Band Name Generator\n",
            "\n",
            "Which city did you grew up in? \n",
            "Edinburgh \n",
            "What is the name for a pet you have in mind? \n",
            "Oreo \n",
            "The name of your band could be Edinburgh Oreo .\n"
          ]
        }
      ],
      "source": [
        "# Creating a greeting for your program\n",
        "\n",
        "print(\"Hello!\\nWelcome To The Band Name Generator\\n\")\n",
        "\n",
        "# Asking the user for the city that they grew up in\n",
        "\n",
        "first_name = input(\"Which city did you grew up in? \\n\")\n",
        "\n",
        "# Asking the user for the name of a pet\n",
        "\n",
        "second_name = input(\"What is the name for a pet you have in mind? \\n\")\n",
        "\n",
        "# Combining the name of their city and pet to show them their band name\n",
        "\n",
        "band_name = print(\"The name of your band could be \" + first_name + second_name + \".\")\n",
        "\n"
      ]
    },
    {
      "cell_type": "code",
      "source": [],
      "metadata": {
        "id": "1rOY0haC202c"
      },
      "execution_count": 4,
      "outputs": []
    }
  ]
}