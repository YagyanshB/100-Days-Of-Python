{
  "nbformat": 4,
  "nbformat_minor": 0,
  "metadata": {
    "colab": {
      "provenance": [],
      "authorship_tag": "ABX9TyMd/q3Gn5WdPprooBEchLE4",
      "include_colab_link": true
    },
    "kernelspec": {
      "name": "python3",
      "display_name": "Python 3"
    },
    "language_info": {
      "name": "python"
    }
  },
  "cells": [
    {
      "cell_type": "markdown",
      "metadata": {
        "id": "view-in-github",
        "colab_type": "text"
      },
      "source": [
        "<a href=\"https://colab.research.google.com/github/YagyanshB/100-Days-Of-Python/blob/main/Days_In_Month.ipynb\" target=\"_parent\"><img src=\"https://colab.research.google.com/assets/colab-badge.svg\" alt=\"Open In Colab\"/></a>"
      ]
    },
    {
      "cell_type": "code",
      "execution_count": 2,
      "metadata": {
        "id": "TNMKa5bwPTBF"
      },
      "outputs": [],
      "source": [
        "# A program that determines the number of days in a month\n",
        "\n",
        "def is_leap(year):\n",
        "  if year % 4 == 0:\n",
        "    if year % 100 == 0:\n",
        "      if year % 400 == 0:\n",
        "        return True\n",
        "      else:\n",
        "        return False\n",
        "    else:\n",
        "      return True\n",
        "  else:\n",
        "    return False"
      ]
    },
    {
      "cell_type": "code",
      "source": [
        "is_leap(1990)"
      ],
      "metadata": {
        "colab": {
          "base_uri": "https://localhost:8080/"
        },
        "id": "gqVPgbIIP65d",
        "outputId": "a3bee669-ece0-4981-8733-bcd691b7e04f"
      },
      "execution_count": 3,
      "outputs": [
        {
          "output_type": "execute_result",
          "data": {
            "text/plain": [
              "False"
            ]
          },
          "metadata": {},
          "execution_count": 3
        }
      ]
    },
    {
      "cell_type": "code",
      "source": [
        "def days_in_a_month(year, month):\n",
        "  month_days = [31,28,31,30,31,30,31,31,30,31,30,31]\n",
        "\n",
        "  if month == 2 and is_leap(year):\n",
        "    return 29\n",
        "  else:\n",
        "    return month_days[month - 1]\n",
        "\n",
        "\n",
        "year = int(input(\"Please enter an year: \\n\"))\n",
        "month = int(input(\"Please enter a month: \\n\"))\n",
        "days = days_in_a_month(year, month)\n",
        "\n",
        "print(f\"The number of days in month {month} is {days}.\")\n"
      ],
      "metadata": {
        "colab": {
          "base_uri": "https://localhost:8080/"
        },
        "id": "ZEUupoSlP8HV",
        "outputId": "09f5fcc6-c3d3-49a6-f134-1358a212db25"
      },
      "execution_count": 6,
      "outputs": [
        {
          "output_type": "stream",
          "name": "stdout",
          "text": [
            "Please enter an year: \n",
            "2016\n",
            "Please enter a month: \n",
            "2\n",
            "The number of days in month 2 is 29.\n"
          ]
        }
      ]
    },
    {
      "cell_type": "code",
      "source": [],
      "metadata": {
        "id": "429C_Ou9huQP"
      },
      "execution_count": null,
      "outputs": []
    }
  ]
}