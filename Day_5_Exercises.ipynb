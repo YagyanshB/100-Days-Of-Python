{
  "nbformat": 4,
  "nbformat_minor": 0,
  "metadata": {
    "colab": {
      "provenance": [],
      "authorship_tag": "ABX9TyOM41ezMNLnxzDhY8CbaBm8",
      "include_colab_link": true
    },
    "kernelspec": {
      "name": "python3",
      "display_name": "Python 3"
    },
    "language_info": {
      "name": "python"
    }
  },
  "cells": [
    {
      "cell_type": "markdown",
      "metadata": {
        "id": "view-in-github",
        "colab_type": "text"
      },
      "source": [
        "<a href=\"https://colab.research.google.com/github/YagyanshB/100-Days-Of-Python/blob/main/Day_5_Exercises.ipynb\" target=\"_parent\"><img src=\"https://colab.research.google.com/assets/colab-badge.svg\" alt=\"Open In Colab\"/></a>"
      ]
    },
    {
      "cell_type": "code",
      "execution_count": 1,
      "metadata": {
        "id": "vva6JaYeeuaa"
      },
      "outputs": [],
      "source": [
        "# Programming concepts will cover loops, ranges and code blocks"
      ]
    },
    {
      "cell_type": "code",
      "source": [
        "# For Loop\n",
        "\n",
        "fruits = [\"Apple\", \"Peach\", \"Pair\"]\n",
        "\n",
        "for fruit in fruits:\n",
        "  print(fruit + \" Pie\")\n",
        "  print(fruits)"
      ],
      "metadata": {
        "colab": {
          "base_uri": "https://localhost:8080/"
        },
        "id": "jq-fwLsDe247",
        "outputId": "7ed5f8d1-be32-4cd4-c8a5-9b45a727d6b6"
      },
      "execution_count": 6,
      "outputs": [
        {
          "output_type": "stream",
          "name": "stdout",
          "text": [
            "Apple Pie\n",
            "['Apple', 'Peach', 'Pair']\n",
            "Peach Pie\n",
            "['Apple', 'Peach', 'Pair']\n",
            "Pair Pie\n",
            "['Apple', 'Peach', 'Pair']\n"
          ]
        }
      ]
    },
    {
      "cell_type": "code",
      "source": [
        "student_heights = [180, 124, 165, 173, 189, 169, 146]\n",
        "\n",
        "total_height = 0\n",
        "\n",
        "for height in student_heights:\n",
        "  total_height += height\n",
        "\n",
        "print(f\"The total height of all students is {total_height}.\")\n",
        "\n",
        "number_of_students = 0\n",
        "\n",
        "for student in student_heights:\n",
        "  number_of_students += 1\n",
        "\n",
        "print(f\"The total number of students is {number_of_students}.\")\n",
        "\n",
        "average_height = round(total_height/number_of_students,2)\n",
        "\n",
        "print(f\"The average height of students is {average_height}.\")"
      ],
      "metadata": {
        "colab": {
          "base_uri": "https://localhost:8080/"
        },
        "id": "asfCMGOifYDv",
        "outputId": "596792d5-c8e4-4d5e-d6ab-0b3439cfd27a"
      },
      "execution_count": 11,
      "outputs": [
        {
          "output_type": "stream",
          "name": "stdout",
          "text": [
            "The total height of all students is 1146.\n",
            "The total number of students is 7.\n",
            "The average height of students is 163.71.\n"
          ]
        }
      ]
    },
    {
      "cell_type": "code",
      "source": [
        "student_scores = [78, 65, 89, 86, 55, 91, 64, 89]\n",
        "\n",
        "highest_score = 0\n",
        "\n",
        "for score in student_scores:\n",
        "  if score > highest_score:\n",
        "    highest_score = score\n",
        "\n",
        "print(f\"The highest score is {highest_score}.\")\n"
      ],
      "metadata": {
        "colab": {
          "base_uri": "https://localhost:8080/"
        },
        "id": "Cz7xe8rUgSwG",
        "outputId": "d88eebee-63f7-4e69-dfc3-25a6c9814113"
      },
      "execution_count": 15,
      "outputs": [
        {
          "output_type": "stream",
          "name": "stdout",
          "text": [
            "The highest score is 91.\n"
          ]
        }
      ]
    },
    {
      "cell_type": "code",
      "source": [
        "total = 0\n",
        "\n",
        "for number in range(1, 101):\n",
        "  total += number\n",
        "\n",
        "print(total)"
      ],
      "metadata": {
        "colab": {
          "base_uri": "https://localhost:8080/"
        },
        "id": "SCMDvA3shOR9",
        "outputId": "48d41de7-4fe6-4bc3-aa0d-232dd4fd942b"
      },
      "execution_count": 16,
      "outputs": [
        {
          "output_type": "stream",
          "name": "stdout",
          "text": [
            "5050\n"
          ]
        }
      ]
    },
    {
      "cell_type": "code",
      "source": [
        "# Adding up all even numbers upto 100000\n",
        "\n",
        "even_total = 0\n",
        "\n",
        "for even_number in range(2,100002,2):\n",
        "  even_total += even_number\n",
        "\n",
        "\n",
        "print(f\"The even total of numbers up to 100,000 is {even_total}.\")"
      ],
      "metadata": {
        "colab": {
          "base_uri": "https://localhost:8080/"
        },
        "id": "2pQ4yG1PiJqj",
        "outputId": "573b8529-664a-4b16-d0c3-eb0162b96e6a"
      },
      "execution_count": 17,
      "outputs": [
        {
          "output_type": "stream",
          "name": "stdout",
          "text": [
            "The even total of numbers up to 100,000 is 2500050000.\n"
          ]
        }
      ]
    },
    {
      "cell_type": "code",
      "source": [
        "target = int(input())\n",
        "\n",
        "total = 0\n",
        "\n",
        "for number in range(0, target + 1):\n",
        "  total += number\n",
        "\n",
        "print(total)\n"
      ],
      "metadata": {
        "colab": {
          "base_uri": "https://localhost:8080/"
        },
        "id": "ObJ96M6RignR",
        "outputId": "85f37d6d-77a5-4c97-9224-c21860d8daae"
      },
      "execution_count": 20,
      "outputs": [
        {
          "output_type": "stream",
          "name": "stdout",
          "text": [
            "100\n",
            "5050\n"
          ]
        }
      ]
    },
    {
      "cell_type": "code",
      "source": [
        "# Fizz Buzz Job Interview Question\n",
        "\n",
        "numbers = range(1,101)\n",
        "\n",
        "for number in numbers:\n",
        "  if number % 15 == 0:\n",
        "    print(\"FizzBuzz\")\n",
        "  elif number % 5 == 0:\n",
        "    print(\"Buzz\")\n",
        "  elif number % 3 == 0:\n",
        "    print(\"Fizz\")\n",
        "  else:\n",
        "    print(number)"
      ],
      "metadata": {
        "colab": {
          "base_uri": "https://localhost:8080/"
        },
        "id": "dSrtFuWAiy77",
        "outputId": "d71939fd-17a4-449b-f968-c0e29c33ed09"
      },
      "execution_count": 23,
      "outputs": [
        {
          "output_type": "stream",
          "name": "stdout",
          "text": [
            "1\n",
            "2\n",
            "Fizz\n",
            "4\n",
            "Buzz\n",
            "Fizz\n",
            "7\n",
            "8\n",
            "Fizz\n",
            "Buzz\n",
            "11\n",
            "Fizz\n",
            "13\n",
            "14\n",
            "FizzBuzz\n",
            "16\n",
            "17\n",
            "Fizz\n",
            "19\n",
            "Buzz\n",
            "Fizz\n",
            "22\n",
            "23\n",
            "Fizz\n",
            "Buzz\n",
            "26\n",
            "Fizz\n",
            "28\n",
            "29\n",
            "FizzBuzz\n",
            "31\n",
            "32\n",
            "Fizz\n",
            "34\n",
            "Buzz\n",
            "Fizz\n",
            "37\n",
            "38\n",
            "Fizz\n",
            "Buzz\n",
            "41\n",
            "Fizz\n",
            "43\n",
            "44\n",
            "FizzBuzz\n",
            "46\n",
            "47\n",
            "Fizz\n",
            "49\n",
            "Buzz\n",
            "Fizz\n",
            "52\n",
            "53\n",
            "Fizz\n",
            "Buzz\n",
            "56\n",
            "Fizz\n",
            "58\n",
            "59\n",
            "FizzBuzz\n",
            "61\n",
            "62\n",
            "Fizz\n",
            "64\n",
            "Buzz\n",
            "Fizz\n",
            "67\n",
            "68\n",
            "Fizz\n",
            "Buzz\n",
            "71\n",
            "Fizz\n",
            "73\n",
            "74\n",
            "FizzBuzz\n",
            "76\n",
            "77\n",
            "Fizz\n",
            "79\n",
            "Buzz\n",
            "Fizz\n",
            "82\n",
            "83\n",
            "Fizz\n",
            "Buzz\n",
            "86\n",
            "Fizz\n",
            "88\n",
            "89\n",
            "FizzBuzz\n",
            "91\n",
            "92\n",
            "Fizz\n",
            "94\n",
            "Buzz\n",
            "Fizz\n",
            "97\n",
            "98\n",
            "Fizz\n",
            "Buzz\n"
          ]
        }
      ]
    }
  ]
}