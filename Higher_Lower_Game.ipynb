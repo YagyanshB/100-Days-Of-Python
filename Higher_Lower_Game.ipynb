{
  "nbformat": 4,
  "nbformat_minor": 0,
  "metadata": {
    "colab": {
      "provenance": [],
      "authorship_tag": "ABX9TyPrYHqkDSNEexgghZjxGiCk",
      "include_colab_link": true
    },
    "kernelspec": {
      "name": "python3",
      "display_name": "Python 3"
    },
    "language_info": {
      "name": "python"
    }
  },
  "cells": [
    {
      "cell_type": "markdown",
      "metadata": {
        "id": "view-in-github",
        "colab_type": "text"
      },
      "source": [
        "<a href=\"https://colab.research.google.com/github/YagyanshB/100-Days-Of-Python/blob/main/Higher_Lower_Game.ipynb\" target=\"_parent\"><img src=\"https://colab.research.google.com/assets/colab-badge.svg\" alt=\"Open In Colab\"/></a>"
      ]
    },
    {
      "cell_type": "code",
      "execution_count": 5,
      "metadata": {
        "id": "rMYbxvUkbx7s"
      },
      "outputs": [],
      "source": [
        "logo = \"\"\"\n",
        "      ___                       ___           ___           ___           ___                    ___       ___           ___           ___           ___\n",
        "     /\\__\\          ___        /\\  \\         /\\__\\         /\\  \\         /\\  \\                  /\\__\\     /\\  \\         /\\__\\         /\\  \\         /\\  \\\n",
        "    /:/  /         /\\  \\      /::\\  \\       /:/  /        /::\\  \\       /::\\  \\                /:/  /    /::\\  \\       /:/ _/_       /::\\  \\       /::\\  \\\n",
        "   /:/__/          \\:\\  \\    /:/\\:\\  \\     /:/__/        /:/\\:\\  \\     /:/\\:\\  \\              /:/  /    /:/\\:\\  \\     /:/ /\\__\\     /:/\\:\\  \\     /:/\\:\\  \\\n",
        "  /::\\  \\ ___      /::\\__\\  /:/  \\:\\  \\   /::\\  \\ ___   /::\\~\\:\\  \\   /::\\~\\:\\  \\            /:/  /    /:/  \\:\\  \\   /:/ /:/ _/_   /::\\~\\:\\  \\   /::\\~\\:\\  \\\n",
        " /:/\\:\\  /\\__\\  __/:/\\/__/ /:/__/_\\:\\__\\ /:/\\:\\  /\\__\\ /:/\\:\\ \\:\\__\\ /:/\\:\\ \\:\\__\\          /:/__/    /:/__/ \\:\\__\\ /:/_/:/ /\\__\\ /:/\\:\\ \\:\\__\\ /:/\\:\\ \\:\\__\\\n",
        " \\/__\\:\\/:/  / /\\/:/  /    \\:\\  /\\ \\/__/ \\/__\\:\\/:/  / \\:\\~\\:\\ \\/__/ \\/_|::\\/:/  /          \\:\\  \\    \\:\\  \\ /:/  / \\:\\/:/ /:/  / \\:\\~\\:\\ \\/__/ \\/_|::\\/:/  /\n",
        "      \\::/  /  \\::/__/      \\:\\ \\:\\__\\        \\::/  /   \\:\\ \\:\\__\\      |:|::/  /            \\:\\  \\    \\:\\  /:/  /   \\::/_/:/  /   \\:\\ \\:\\__\\      |:|::/  /\n",
        "      /:/  /    \\:\\__\\       \\:\\/:/  /        /:/  /     \\:\\ \\/__/      |:|\\/__/              \\:\\  \\    \\:\\/:/  /     \\:\\/:/  /     \\:\\ \\/__/      |:|\\/__/\n",
        "     /:/  /      \\/__/        \\::/  /        /:/  /       \\:\\__\\        |:|  |                 \\:\\__\\    \\::/  /       \\::/  /       \\:\\__\\        |:|  |\n",
        "     \\/__/                     \\/__/         \\/__/         \\/__/         \\|__|                  \\/__/     \\/__/         \\/__/         \\/__/         \\|__|\n",
        "\n",
        "     \"\"\""
      ]
    },
    {
      "cell_type": "code",
      "source": [
        "# Importing libraries and modules\n",
        "\n",
        "import random\n",
        "score = 0\n",
        "\n",
        "data = [\n",
        "    {'name': 'Instagram',\n",
        "     'follower_count': 346,\n",
        "     'description': 'social media platform',\n",
        "     'country': 'United States'},\n",
        "\n",
        "    {'name': 'Cristiano Ronaldo',\n",
        "     'follower_count': 215,\n",
        "     'description': 'Footballer',\n",
        "     'country': 'Portugal'},\n",
        "\n",
        "    {'name': 'Ariana Grande',\n",
        "     'follower_count': 183,\n",
        "     'description': 'Musician and actress',\n",
        "     'country': 'United States'},\n",
        "\n",
        "    {'name': 'Dwayne Johnson',\n",
        "     'follower_count': 181,\n",
        "     'description': 'Actor and professional wrestler',\n",
        "     'country': 'United States'}\n",
        "]\n",
        "\n",
        "account_b = random.choice(data)\n",
        "\n",
        "print(logo)\n",
        "\n",
        "current_score = 0\n",
        "game_should_continue = True\n",
        "\n",
        "\n",
        "def format_data(account):\n",
        "\n",
        "  account_name = account['name']\n",
        "  account_description = account['description']\n",
        "  account_country = account['country']\n",
        "  return f\"{account_name} a {account_description} from {account_country}.\"\n",
        "\n",
        "def check_answer(guess, a_followers, b_followers):\n",
        "\n",
        "  if a_followers > b_followers:\n",
        "    return guess == \"a\"\n",
        "  else:\n",
        "    return guess == \"b\"\n",
        "\n",
        "while game_should_continue :\n",
        "  account_a = account_b\n",
        "  account_b = random.choice(data)\n",
        "\n",
        "  while account_a == account_b:\n",
        "    \"\"\" we create this if statemnt so that there is no equivalence.\"\"\"\n",
        "    account_b = random.choice(data)\n",
        "\n",
        "  print(f\"Compare A: {format_data(account_a)}\\n\")\n",
        "\n",
        "  print(\"VS\\n\")\n",
        "\n",
        "  print(f\"Compare B: {format_data(account_b)}\")\n",
        "\n",
        "  guess = input(\"Who has more followers? Type 'A' or 'B': \\n\").lower()\n",
        "\n",
        "  a_follower_count = account_a['follower_count']\n",
        "  b_follower_count = account_b['follower_count']\n",
        "\n",
        "  is_correct = check_answer(guess, a_follower_count, b_follower_count)\n",
        "\n",
        "  if is_correct:\n",
        "    score += 1\n",
        "    print(f\"You are right! Current score is {score}.\")\n",
        "  else:\n",
        "    game_should_continue = False\n",
        "    print(f\"Sorry, you are wrong. Final score is {score}.\")\n",
        "\n"
      ],
      "metadata": {
        "colab": {
          "base_uri": "https://localhost:8080/"
        },
        "id": "rk0jOpzwb22T",
        "outputId": "a9230771-9fc3-4e5e-c026-5951ee795b6d"
      },
      "execution_count": 29,
      "outputs": [
        {
          "output_type": "stream",
          "name": "stdout",
          "text": [
            "   \n",
            "      ___                       ___           ___           ___           ___                    ___       ___           ___           ___           ___     \n",
            "     /\\__\\          ___        /\\  \\         /\\__\\         /\\  \\         /\\  \\                  /\\__\\     /\\  \\         /\\__\\         /\\  \\         /\\  \\    \n",
            "    /:/  /         /\\  \\      /::\\  \\       /:/  /        /::\\  \\       /::\\  \\                /:/  /    /::\\  \\       /:/ _/_       /::\\  \\       /::\\  \\   \n",
            "   /:/__/          \\:\\  \\    /:/\\:\\  \\     /:/__/        /:/\\:\\  \\     /:/\\:\\  \\              /:/  /    /:/\\:\\  \\     /:/ /\\__\\     /:/\\:\\  \\     /:/\\:\\  \\  \n",
            "  /::\\  \\ ___      /::\\__\\  /:/  \\:\\  \\   /::\\  \\ ___   /::\\~\\:\\  \\   /::\\~\\:\\  \\            /:/  /    /:/  \\:\\  \\   /:/ /:/ _/_   /::\\~\\:\\  \\   /::\\~\\:\\  \\ \n",
            " /:/\\:\\  /\\__\\  __/:/\\/__/ /:/__/_\\:\\__\\ /:/\\:\\  /\\__\\ /:/\\:\\ \\:\\__\\ /:/\\:\\ \\:\\__\\          /:/__/    /:/__/ \\:\\__\\ /:/_/:/ /\\__\\ /:/\\:\\ \\:\\__\\ /:/\\:\\ \\:\\__ \\/__\\:\\/:/  / /\\/:/  /    \\:\\  /\\ \\/__/ \\/__\\:\\/:/  / \\:\\~\\:\\ \\/__/ \\/_|::\\/:/  /          \\:\\  \\    \\:\\  \\ /:/  / \\:\\/:/ /:/  / \\:\\~\\:\\ \\/__/ \\/_|::\\/:/  /\n",
            "      \\::/  /  \\::/__/      \\:\\ \\:\\__\\        \\::/  /   \\:\\ \\:\\__\\      |:|::/  /            \\:\\  \\    \\:\\  /:/  /   \\::/_/:/  /   \\:\\ \\:\\__\\      |:|::/  / \n",
            "      /:/  /    \\:\\__\\       \\:\\/:/  /        /:/  /     \\:\\ \\/__/      |:|\\/__/              \\:\\  \\    \\:\\/:/  /     \\:\\/:/  /     \\:\\ \\/__/      |:|\\/__/  \n",
            "     /:/  /      \\/__/        \\::/  /        /:/  /       \\:\\__\\        |:|  |                 \\:\\__\\    \\::/  /       \\::/  /       \\:\\__\\        |:|  |    \n",
            "     \\/__/                     \\/__/         \\/__/         \\/__/         \\|__|                  \\/__/     \\/__/         \\/__/         \\/__/         \\|__|    \n",
            "\n",
            "     \n",
            "Compare A: Dwayne Johnson a Actor and professional wrestler from United States.\n",
            "\n",
            "VS\n",
            "\n",
            "Compare B: Cristiano Ronaldo a Footballer from Portugal.\n",
            "Who has more followers? Type 'A' or 'B': \n",
            "A\n",
            "Sorry, you are wrong. Final score is 0.\n"
          ]
        }
      ]
    }
  ]
}