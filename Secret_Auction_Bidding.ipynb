{
  "nbformat": 4,
  "nbformat_minor": 0,
  "metadata": {
    "colab": {
      "provenance": [],
      "authorship_tag": "ABX9TyOzYpQVV8BGG3wWI4SkfSlx",
      "include_colab_link": true
    },
    "kernelspec": {
      "name": "python3",
      "display_name": "Python 3"
    },
    "language_info": {
      "name": "python"
    }
  },
  "cells": [
    {
      "cell_type": "markdown",
      "metadata": {
        "id": "view-in-github",
        "colab_type": "text"
      },
      "source": [
        "<a href=\"https://colab.research.google.com/github/YagyanshB/100-Days-Of-Python/blob/main/Secret_Auction_Bidding.ipynb\" target=\"_parent\"><img src=\"https://colab.research.google.com/assets/colab-badge.svg\" alt=\"Open In Colab\"/></a>"
      ]
    },
    {
      "cell_type": "code",
      "source": [
        "!pip install clear"
      ],
      "metadata": {
        "colab": {
          "base_uri": "https://localhost:8080/"
        },
        "id": "xcSRgNh6Udj2",
        "outputId": "7ed1cbb4-8823-49c7-e7d3-b096fa6df470"
      },
      "execution_count": 3,
      "outputs": [
        {
          "output_type": "stream",
          "name": "stdout",
          "text": [
            "Collecting clear\n",
            "  Downloading clear-2.0.0.tar.gz (2.1 kB)\n",
            "  Installing build dependencies ... \u001b[?25l\u001b[?25hdone\n",
            "  Getting requirements to build wheel ... \u001b[?25l\u001b[?25hdone\n",
            "  Preparing metadata (pyproject.toml) ... \u001b[?25l\u001b[?25hdone\n",
            "Building wheels for collected packages: clear\n",
            "  Building wheel for clear (pyproject.toml) ... \u001b[?25l\u001b[?25hdone\n",
            "  Created wheel for clear: filename=clear-2.0.0-py3-none-any.whl size=2218 sha256=d41e59ad9f4ea89524535d9b5d2791ecd56a8ff6f2f936113355bc7cfe16825d\n",
            "  Stored in directory: /root/.cache/pip/wheels/99/5d/f9/fb1b4d1bb06c0fb6e2889b6a7a06091f58d189b91149e9097a\n",
            "Successfully built clear\n",
            "Installing collected packages: clear\n",
            "Successfully installed clear-2.0.0\n"
          ]
        }
      ]
    },
    {
      "cell_type": "code",
      "source": [
        "import os\n",
        "\n",
        "print(\"Welcome to the Secret Auction Program!\")\n",
        "\n",
        "bids = {}\n",
        "bidding_finished = False\n",
        "\n",
        "def find_highest_bidder(bids):\n",
        "    highest_bid = 0\n",
        "    winner = \"\"\n",
        "    for bidder in bids:\n",
        "        bid_amount = bids[bidder]\n",
        "        if bid_amount > highest_bid:\n",
        "            highest_bid = bid_amount\n",
        "            winner = bidder\n",
        "    print(f\"The winner is {winner} with a bid of £{highest_bid}\")\n",
        "\n",
        "while not bidding_finished:\n",
        "    name = input(\"What is your name?: \")\n",
        "    price = int(input(\"What is your bid?: £\"))\n",
        "    bids[name] = price\n",
        "    should_continue = input(\"Are there any other bidders? Type 'yes' or 'no'\\n\")\n",
        "\n",
        "    if should_continue == \"no\":\n",
        "        bidding_finished = True\n",
        "        find_highest_bidder(bids)\n",
        "    elif should_continue == \"yes\":\n",
        "        # continue loop\n",
        "        pass\n",
        "\n",
        "os.system('clear')  # This line will clear the console after the auction ends\n",
        "print(\"Auction has ended!\")"
      ],
      "metadata": {
        "colab": {
          "base_uri": "https://localhost:8080/"
        },
        "id": "Cyu_kZB3YLcN",
        "outputId": "2f163813-f5db-448b-d8f0-6e0e793f6633"
      },
      "execution_count": 13,
      "outputs": [
        {
          "output_type": "stream",
          "name": "stdout",
          "text": [
            "Welcome to the Secret Auction Program!\n",
            "What is your name?: A\n",
            "What is your bid?: £10\n",
            "Are there any other bidders? Type 'yes' or 'no'\n",
            "yes\n",
            "What is your name?: B\n",
            "What is your bid?: £20\n",
            "Are there any other bidders? Type 'yes' or 'no'\n",
            "no\n",
            "The winner is B with a bid of £20\n",
            "Auction has ended!\n"
          ]
        }
      ]
    },
    {
      "cell_type": "code",
      "source": [],
      "metadata": {
        "id": "zaZL3nBkZm3-"
      },
      "execution_count": null,
      "outputs": []
    }
  ]
}