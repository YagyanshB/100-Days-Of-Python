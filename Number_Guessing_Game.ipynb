{
  "nbformat": 4,
  "nbformat_minor": 0,
  "metadata": {
    "colab": {
      "provenance": [],
      "authorship_tag": "ABX9TyMeIIbDm30eprSpwIsgY++Q",
      "include_colab_link": true
    },
    "kernelspec": {
      "name": "python3",
      "display_name": "Python 3"
    },
    "language_info": {
      "name": "python"
    }
  },
  "cells": [
    {
      "cell_type": "markdown",
      "metadata": {
        "id": "view-in-github",
        "colab_type": "text"
      },
      "source": [
        "<a href=\"https://colab.research.google.com/github/YagyanshB/100-Days-Of-Python/blob/main/Number_Guessing_Game.ipynb\" target=\"_parent\"><img src=\"https://colab.research.google.com/assets/colab-badge.svg\" alt=\"Open In Colab\"/></a>"
      ]
    },
    {
      "cell_type": "code",
      "execution_count": 5,
      "metadata": {
        "id": "9HLkuPgSWSPK"
      },
      "outputs": [],
      "source": [
        "logo = \"\"\"\n",
        " _______   ____ ___      ___.                    ________                            .__\n",
        " \\      \\ |    |   \\_____\\_ |__   ___________   /  _____/ __ __   ____   ______ _____|__| ____    ____\n",
        " /   |   \\|    |   /     \\| __ \\_/ __ \\_  __ \\ /   \\  ___|  |  \\_/ __ \\ /  ___//  ___/  |/    \\  / ___\\\n",
        "/    |    \\    |  /  Y Y  \\ \\_\\ \\  ___/|  | \\/ \\    \\_\\  \\  |  /\\  ___/ \\___ \\ \\___ \\|  |   |  \\/ /_/  >\n",
        "\\____|__  /______/|__|_|  /___  /\\___  >__|     \\______  /____/  \\___  >____  >____  >__|___|  /\\___  /\n",
        "        \\/              \\/    \\/     \\/                \\/            \\/     \\/     \\/        \\//_____/\n",
        "\"\"\""
      ]
    },
    {
      "cell_type": "code",
      "source": [
        "print(logo)"
      ],
      "metadata": {
        "colab": {
          "base_uri": "https://localhost:8080/"
        },
        "id": "A3CGe40WYYFT",
        "outputId": "0610a9b5-00d5-4152-8690-21f6dbedc11b"
      },
      "execution_count": 6,
      "outputs": [
        {
          "output_type": "stream",
          "name": "stdout",
          "text": [
            "\n",
            " _______   ____ ___      ___.                    ________                            .__                \n",
            " \\      \\ |    |   \\_____\\_ |__   ___________   /  _____/ __ __   ____   ______ _____|__| ____    ____  \n",
            " /   |   \\|    |   /     \\| __ \\_/ __ \\_  __ \\ /   \\  ___|  |  \\_/ __ \\ /  ___//  ___/  |/    \\  / ___\\ \n",
            "/    |    \\    |  /  Y Y  \\ \\_\\ \\  ___/|  | \\/ \\    \\_\\  \\  |  /\\  ___/ \\___ \\ \\___ \\|  |   |  \\/ /_/  >\n",
            "\\____|__  /______/|__|_|  /___  /\\___  >__|     \\______  /____/  \\___  >____  >____  >__|___|  /\\___  / \n",
            "        \\/              \\/    \\/     \\/                \\/            \\/     \\/     \\/        \\//_____/  \n",
            "\n"
          ]
        }
      ]
    },
    {
      "cell_type": "code",
      "source": [
        "import random\n",
        "\n",
        "EASY_LEVEL_TURNS = 10\n",
        "HARD_LEVEL_TURNS = 5\n",
        "\n",
        "def check_answer(answer, guess, turns):\n",
        "  if guess > answer:\n",
        "    print(\"Too High!\")\n",
        "    return turns - 1\n",
        "  elif guess < answer:\n",
        "    print(\"Too Low!\")\n",
        "    return turns - 1\n",
        "  else:\n",
        "    print(f\"You got it! The answer was {answer}!\")\n",
        "    return 0 # Return 0 to indicate the game should end\n",
        "\n",
        "def set_difficulty():\n",
        "  level = input(\"Choose a difficulty: Type 'easy' or 'hard'\\n\")\n",
        "  if level == \"easy\":\n",
        "    return EASY_LEVEL_TURNS\n",
        "  else:\n",
        "    return HARD_LEVEL_TURNS\n",
        "\n",
        "def game():\n",
        "  print(\"Welcome to the Number Guessing Game!\")\n",
        "  print(\"I am thinking of a number between 1 and 100\")\n",
        "  answer = random.randint(1, 100)\n",
        "  print(f\"psst!! The answer is {answer}.\") # For debugging\n",
        "\n",
        "  turns = set_difficulty()\n",
        "  game_over = False\n",
        "\n",
        "  while not game_over:\n",
        "    print(f\"You have {turns} attempts left to guess the number.\")\n",
        "    guess = int(input(\"Make a guess:\\n\"))\n",
        "\n",
        "    turns = check_answer(answer, guess, turns)\n",
        "    if turns == 0:\n",
        "      game_over = True\n",
        "\n",
        "    if not game_over and guess != answer:\n",
        "      print(\"Guess again!\")\n",
        "\n",
        "  if turns != 0:\n",
        "    print(f\"Sorry, you've run out of attempts. The correct answer was {answer}.\")\n",
        "\n",
        "game()"
      ],
      "metadata": {
        "colab": {
          "base_uri": "https://localhost:8080/"
        },
        "id": "ZG7EMtO8ZOmg",
        "outputId": "b5795b1e-dd8d-44ba-e36b-259e18602d7e"
      },
      "execution_count": 32,
      "outputs": [
        {
          "output_type": "stream",
          "name": "stdout",
          "text": [
            "Welcome to the Number Guessing Game!\n",
            "I am thinking of a number between 1 and 100\n",
            "psst!! The answer is 73.\n",
            "Choose a difficulty: Type 'easy' or 'hard'\n",
            "easy\n",
            "You have 10 attempts left to guess the number.\n",
            "Make a guess:\n",
            "73\n",
            "You got it! The answer was 73!\n"
          ]
        }
      ]
    }
  ]
}