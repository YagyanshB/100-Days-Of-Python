{
  "nbformat": 4,
  "nbformat_minor": 0,
  "metadata": {
    "colab": {
      "provenance": [],
      "authorship_tag": "ABX9TyM+7FTxB/dWe59IIHhfDAWt",
      "include_colab_link": true
    },
    "kernelspec": {
      "name": "python3",
      "display_name": "Python 3"
    },
    "language_info": {
      "name": "python"
    }
  },
  "cells": [
    {
      "cell_type": "markdown",
      "metadata": {
        "id": "view-in-github",
        "colab_type": "text"
      },
      "source": [
        "<a href=\"https://colab.research.google.com/github/YagyanshB/100-Days-Of-Python/blob/main/Day_7_Exercises.ipynb\" target=\"_parent\"><img src=\"https://colab.research.google.com/assets/colab-badge.svg\" alt=\"Open In Colab\"/></a>"
      ]
    },
    {
      "cell_type": "code",
      "source": [
        "# Building a program that would play the Hangman game\n",
        "\n",
        "import random\n",
        "\n",
        "end_of_game = False\n",
        "word_list = [\"ardvark\", \"baboon\", \"camel\"]\n",
        "chosen_word = random.choice(word_list)\n",
        "word_length = len(chosen_word)\n",
        "\n",
        "\n",
        "lives = 6\n",
        "\n",
        "# Testing code\n",
        "\n",
        "print(f\"The solution is {chosen_word}\")\n",
        "\n",
        "display = []\n",
        "for _ in range(word_length):\n",
        "  display += \"_\"\n",
        "\n",
        "while not end_of_game:\n",
        "  guess = input(\"Please guess a letter: \\n\").lower()\n",
        "  for position in range(word_length):\n",
        "    letter = chosen_word[position]\n",
        "    if letter == guess:\n",
        "      display[position] = letter\n",
        "\n",
        "  if guess not in chosen_word:\n",
        "    lives -= 1\n",
        "    if lives == 0:\n",
        "      end_of_game = True\n",
        "      print(\"You Lose.\")\n",
        "\n",
        "  print(display)\n",
        "\n",
        "  if \"_\" not in display:\n",
        "    end_of_game = True\n",
        "    print(\"You win.\")"
      ],
      "metadata": {
        "colab": {
          "base_uri": "https://localhost:8080/"
        },
        "id": "weJn-I9pRm9p",
        "outputId": "67ae93c2-5507-4f57-b604-28417c83035d"
      },
      "execution_count": 3,
      "outputs": [
        {
          "output_type": "stream",
          "name": "stdout",
          "text": [
            "The solution is baboon\n",
            "Please guess a letter: \n",
            "b\n",
            "['b', '_', 'b', '_', '_', '_']\n",
            "Please guess a letter: \n",
            "a\n",
            "['b', 'a', 'b', '_', '_', '_']\n",
            "Please guess a letter: \n",
            "o\n",
            "['b', 'a', 'b', 'o', 'o', '_']\n",
            "Please guess a letter: \n",
            "n\n",
            "['b', 'a', 'b', 'o', 'o', 'n']\n",
            "You win.\n"
          ]
        }
      ]
    },
    {
      "cell_type": "code",
      "source": [
        "len(chosen_word)"
      ],
      "metadata": {
        "colab": {
          "base_uri": "https://localhost:8080/"
        },
        "id": "lwriMKedSBeA",
        "outputId": "ff27087e-b09c-48af-dd14-395ffc5cae7a"
      },
      "execution_count": 11,
      "outputs": [
        {
          "output_type": "execute_result",
          "data": {
            "text/plain": [
              "7"
            ]
          },
          "metadata": {},
          "execution_count": 11
        }
      ]
    },
    {
      "cell_type": "code",
      "source": [],
      "metadata": {
        "id": "CBqjqi6jVpgZ"
      },
      "execution_count": null,
      "outputs": []
    }
  ]
}