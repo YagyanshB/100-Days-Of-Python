{
  "nbformat": 4,
  "nbformat_minor": 0,
  "metadata": {
    "colab": {
      "provenance": [],
      "authorship_tag": "ABX9TyO47gmVW2AM2XSec3gVGQjy",
      "include_colab_link": true
    },
    "kernelspec": {
      "name": "python3",
      "display_name": "Python 3"
    },
    "language_info": {
      "name": "python"
    }
  },
  "cells": [
    {
      "cell_type": "markdown",
      "metadata": {
        "id": "view-in-github",
        "colab_type": "text"
      },
      "source": [
        "<a href=\"https://colab.research.google.com/github/YagyanshB/100-Days-Of-Python/blob/main/Day_9_Exercises.ipynb\" target=\"_parent\"><img src=\"https://colab.research.google.com/assets/colab-badge.svg\" alt=\"Open In Colab\"/></a>"
      ]
    },
    {
      "cell_type": "code",
      "execution_count": 1,
      "metadata": {
        "id": "0P6wZnuP1xm1"
      },
      "outputs": [],
      "source": [
        "# Programming Dictionaries & Nesting"
      ]
    },
    {
      "cell_type": "code",
      "source": [
        "# A sample programming dictionary\n",
        "\n",
        "programming_dictionary = {\"Bug\": \"Not an animal\",\n",
        "                          \"Error\": \"Something is not working\"}"
      ],
      "metadata": {
        "id": "SNzzOgLa15v-"
      },
      "execution_count": 8,
      "outputs": []
    },
    {
      "cell_type": "code",
      "source": [
        "programming_dictionary[\"Bug\"]"
      ],
      "metadata": {
        "colab": {
          "base_uri": "https://localhost:8080/",
          "height": 35
        },
        "id": "2J1WmPs92Sf_",
        "outputId": "56aaa227-82c8-4250-deef-acea0173e265"
      },
      "execution_count": 6,
      "outputs": [
        {
          "output_type": "execute_result",
          "data": {
            "text/plain": [
              "'Not an animal'"
            ],
            "application/vnd.google.colaboratory.intrinsic+json": {
              "type": "string"
            }
          },
          "metadata": {},
          "execution_count": 6
        }
      ]
    },
    {
      "cell_type": "code",
      "source": [
        "student_scores = {\n",
        "    \"Harry\": 81,\n",
        "    \"Ron\": 78,\n",
        "    \"Hermione\": 99,\n",
        "    \"Draco\": 74,\n",
        "    \"Neville\": 62\n",
        "}"
      ],
      "metadata": {
        "id": "g6koQGpr2UWJ"
      },
      "execution_count": 9,
      "outputs": []
    },
    {
      "cell_type": "code",
      "source": [
        "student_grades = {}"
      ],
      "metadata": {
        "id": "8Ifm2zKH4Qj-"
      },
      "execution_count": 14,
      "outputs": []
    },
    {
      "cell_type": "code",
      "source": [
        "for student in student_scores:\n",
        "  score = student_scores[student]\n",
        "\n",
        "  if score > 90:\n",
        "    student_grades[student] = \"Outstanding\"\n",
        "  elif score > 80:\n",
        "    student_grades[student] = \"Exceeds Expectations\"\n",
        "  elif score > 70:\n",
        "    student_grades[student] = \"Acceptable\"\n",
        "  else:\n",
        "    student_grades[student] = \"Fail\"\n",
        "\n",
        "print(student_grades)\n"
      ],
      "metadata": {
        "colab": {
          "base_uri": "https://localhost:8080/"
        },
        "id": "NUXLVrBZ3hYt",
        "outputId": "c27d0fe3-819a-4063-91b2-d39b13630b67"
      },
      "execution_count": 19,
      "outputs": [
        {
          "output_type": "stream",
          "name": "stdout",
          "text": [
            "{'Harry': 'Exceeds Expectations', 'Ron': 'Acceptable', 'Hermione': 'Outstanding', 'Draco': 'Acceptable', 'Neville': 'Fail'}\n"
          ]
        }
      ]
    },
    {
      "cell_type": "code",
      "source": [
        "# Nesting\n",
        "\n",
        "List1 = [\"a\", \"b\"]\n",
        "dictio = {\"Hello\": 123, \"Yello\": 567}\n",
        "\n",
        "sample_dictionary = {\"Key\": \"Value\",\n",
        "                     \"Key1\": [List1],\n",
        "                     \"Key2\": [dictio]}"
      ],
      "metadata": {
        "id": "_VgihDng7wxI"
      },
      "execution_count": 23,
      "outputs": []
    },
    {
      "cell_type": "code",
      "source": [
        "dictio[\"Hello\"]"
      ],
      "metadata": {
        "colab": {
          "base_uri": "https://localhost:8080/"
        },
        "id": "bUsReqvq9cPB",
        "outputId": "6ceff4b8-b1d8-4d7d-bcef-032d6c246594"
      },
      "execution_count": 24,
      "outputs": [
        {
          "output_type": "execute_result",
          "data": {
            "text/plain": [
              "123"
            ]
          },
          "metadata": {},
          "execution_count": 24
        }
      ]
    },
    {
      "cell_type": "code",
      "source": [
        "# Nesting a dictionary in a dictionary\n",
        "\n",
        "travel_log = {\n",
        "    \"France\": {\"cities_visited\": [\"Paris\", \"Lille\", \"Dijon\"], \"total_visits\": 12},\n",
        "    \"Germany\": {\"cities_visited\": [\"Berlin\", \"Hamburg\", \"Stuttgart\"], \"total_visits\" : 14},\n",
        "}"
      ],
      "metadata": {
        "id": "uQaehdqX9pKw"
      },
      "execution_count": 31,
      "outputs": []
    },
    {
      "cell_type": "code",
      "source": [
        "travel_log[\"Germany\"]"
      ],
      "metadata": {
        "colab": {
          "base_uri": "https://localhost:8080/"
        },
        "id": "OerYyblN-YZc",
        "outputId": "84dda551-acb2-4d9b-d421-bb55a329f972"
      },
      "execution_count": 32,
      "outputs": [
        {
          "output_type": "execute_result",
          "data": {
            "text/plain": [
              "{'cities_visited': ['Berlin', 'Hamburg', 'Stuttgart'], 'total_visits': 14}"
            ]
          },
          "metadata": {},
          "execution_count": 32
        }
      ]
    },
    {
      "cell_type": "code",
      "source": [
        "travel_log = [\n",
        "\n",
        "    {\"country\" :\"France\",\n",
        "     \"cities\": [\"Paris\", \"Lille\", \"Dijon\"],\n",
        "     \"visits\": 12},\n",
        "\n",
        "    {\"country\": \"Germany\",\n",
        "     \"cities\": [\"Berlin\", \"Hamburg\", \"Stuttgart\"],\n",
        "     \"visits\" : 14},\n",
        "]"
      ],
      "metadata": {
        "id": "2z9bZ0eC-qBq"
      },
      "execution_count": 42,
      "outputs": []
    },
    {
      "cell_type": "code",
      "source": [
        "travel_log[\"country\" == \"France\"]"
      ],
      "metadata": {
        "colab": {
          "base_uri": "https://localhost:8080/"
        },
        "id": "BlkEDS5FADBU",
        "outputId": "7e84cbb5-067c-4c2f-a8b9-6e6e4fe82c5d"
      },
      "execution_count": 40,
      "outputs": [
        {
          "output_type": "execute_result",
          "data": {
            "text/plain": [
              "{'country': 'France',\n",
              " 'cities_visited': ['Paris', 'Lille', 'Dijon'],\n",
              " 'total_visits': 12}"
            ]
          },
          "metadata": {},
          "execution_count": 40
        }
      ]
    },
    {
      "cell_type": "code",
      "source": [
        "travel_log = [\n",
        "  {\"country\": \"France\",\n",
        "   \"cities\": [\"Paris\", \"Lille\", \"Dijon\"],\n",
        "   \"visits\": 12},\n",
        "\n",
        "  {\"country\": \"Germany\",\n",
        "    \"cities\": [\"Berlin\", \"Hamburg\", \"Stuttgart\"],\n",
        "    \"visits\": 14},\n",
        "]\n",
        "\n",
        "def add_new_country(name, times_visited, cities_visited):\n",
        "\n",
        "  new_country = {}\n",
        "  new_country[\"country\"] = name\n",
        "  new_country[\"visits\"] = times_visited\n",
        "  new_country[\"cities\"] = cities_visited\n",
        "\n",
        "  travel_log.append(new_country)\n",
        "\n",
        "\n",
        "country = input(\"Enter country name: \")\n",
        "visits = int(input(\"Enter times visited: \"))\n",
        "cities = input(\"Enter cities separated by commas: \").split(\", \")\n",
        "\n",
        "add_new_country(country, visits, cities)\n",
        "\n",
        "print(travel_log)"
      ],
      "metadata": {
        "colab": {
          "base_uri": "https://localhost:8080/"
        },
        "id": "3Syrc4IkAPK-",
        "outputId": "78fe6e61-24d4-4217-8ff5-518537bac7d9"
      },
      "execution_count": 46,
      "outputs": [
        {
          "output_type": "stream",
          "name": "stdout",
          "text": [
            "Enter country name: India\n",
            "Enter times visited: 10\n",
            "Enter cities separated by commas: Pilani, Mumbai\n",
            "[{'country': 'France', 'cities': ['Paris', 'Lille', 'Dijon'], 'visits': 12}, {'country': 'Germany', 'cities': ['Berlin', 'Hamburg', 'Stuttgart'], 'visits': 14}, {'country': 'India', 'visits': 10, 'cities': ['Pilani', 'Mumbai']}]\n"
          ]
        }
      ]
    }
  ]
}