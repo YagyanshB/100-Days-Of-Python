{
  "nbformat": 4,
  "nbformat_minor": 0,
  "metadata": {
    "colab": {
      "provenance": [],
      "authorship_tag": "ABX9TyNGvkQNuin+PrrGthT3IZUq",
      "include_colab_link": true
    },
    "kernelspec": {
      "name": "python3",
      "display_name": "Python 3"
    },
    "language_info": {
      "name": "python"
    }
  },
  "cells": [
    {
      "cell_type": "markdown",
      "metadata": {
        "id": "view-in-github",
        "colab_type": "text"
      },
      "source": [
        "<a href=\"https://colab.research.google.com/github/YagyanshB/100-Days-Of-Python/blob/main/Day_8_Exercises.ipynb\" target=\"_parent\"><img src=\"https://colab.research.google.com/assets/colab-badge.svg\" alt=\"Open In Colab\"/></a>"
      ]
    },
    {
      "cell_type": "code",
      "execution_count": 1,
      "metadata": {
        "id": "X0gga6Ya6fS5"
      },
      "outputs": [],
      "source": [
        "# Functions that can take in inputs"
      ]
    },
    {
      "cell_type": "code",
      "source": [
        "def greet():\n",
        "  print(\"Hello\")\n",
        "  print(\"How are you?\")\n",
        "  print(\"How's the weather?\")"
      ],
      "metadata": {
        "id": "0g3CeKsg6kaj"
      },
      "execution_count": 5,
      "outputs": []
    },
    {
      "cell_type": "code",
      "source": [
        "greet()"
      ],
      "metadata": {
        "colab": {
          "base_uri": "https://localhost:8080/"
        },
        "id": "lwyltREYGJN_",
        "outputId": "da819ec1-eb99-4d37-b3df-6f4d800f6a83"
      },
      "execution_count": 6,
      "outputs": [
        {
          "output_type": "stream",
          "name": "stdout",
          "text": [
            "Hello\n",
            "How are you?\n",
            "How's the weather?\n"
          ]
        }
      ]
    },
    {
      "cell_type": "code",
      "source": [
        "def greet_with_name(name, location):\n",
        "  print(f\"Hello {name} from {location}.\")\n",
        "  print(f\"How do you do {name}?\")\n",
        "\n",
        "\n",
        "greet_with_name(\"Yagyansh\", \"London\")"
      ],
      "metadata": {
        "colab": {
          "base_uri": "https://localhost:8080/"
        },
        "id": "WfY9Npn7GJ34",
        "outputId": "d3fea5be-2944-4c63-e450-610a6e74f10c"
      },
      "execution_count": 7,
      "outputs": [
        {
          "output_type": "stream",
          "name": "stdout",
          "text": [
            "Hello Yagyansh from London.\n",
            "How do you do Yagyansh?\n"
          ]
        }
      ]
    },
    {
      "cell_type": "code",
      "source": [
        "import math\n",
        "\n",
        "def paint_calc(test_h,test_w,coverage):\n",
        "  number_of_cans = math.ceil((test_h * test_w)/coverage)\n",
        "  print(f\"The number of cans required is {number_of_cans}.\")"
      ],
      "metadata": {
        "id": "BcqRs55EG4eG"
      },
      "execution_count": 16,
      "outputs": []
    },
    {
      "cell_type": "code",
      "source": [
        "paint_calc(3,9,5)"
      ],
      "metadata": {
        "colab": {
          "base_uri": "https://localhost:8080/"
        },
        "id": "Juac7T3QIrD9",
        "outputId": "15e4e8cb-720e-4a61-c713-3c4e4c5e30fd"
      },
      "execution_count": 18,
      "outputs": [
        {
          "output_type": "stream",
          "name": "stdout",
          "text": [
            "The number of cans required is 6.\n"
          ]
        }
      ]
    },
    {
      "cell_type": "code",
      "source": [
        "def prime_number(number):\n",
        "  is_prime = True\n",
        "  for i in range(2, number):\n",
        "    if number % i == 0:\n",
        "      is_prime = False\n",
        "  if is_prime == True:\n",
        "      print(f\"The number {number} is a Prime Number.\")\n",
        "  else:\n",
        "      print(f\"The number {number} is not a Prime Number.\")\n"
      ],
      "metadata": {
        "id": "5yOVfp5kJeiI"
      },
      "execution_count": 27,
      "outputs": []
    },
    {
      "cell_type": "code",
      "source": [
        "prime_number(49)"
      ],
      "metadata": {
        "colab": {
          "base_uri": "https://localhost:8080/"
        },
        "id": "ouJFqtkdKHP9",
        "outputId": "c08a9c1d-1e20-4f19-e179-9eb0dcebd472"
      },
      "execution_count": 28,
      "outputs": [
        {
          "output_type": "stream",
          "name": "stdout",
          "text": [
            "The number 49 is not a Prime Number.\n"
          ]
        }
      ]
    }
  ]
}