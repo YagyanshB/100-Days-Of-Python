{
  "nbformat": 4,
  "nbformat_minor": 0,
  "metadata": {
    "colab": {
      "provenance": [],
      "authorship_tag": "ABX9TyO2ned9SRmTDd2wIKydhw8J",
      "include_colab_link": true
    },
    "kernelspec": {
      "name": "python3",
      "display_name": "Python 3"
    },
    "language_info": {
      "name": "python"
    }
  },
  "cells": [
    {
      "cell_type": "markdown",
      "metadata": {
        "id": "view-in-github",
        "colab_type": "text"
      },
      "source": [
        "<a href=\"https://colab.research.google.com/github/YagyanshB/100-Days-Of-Python/blob/main/Caesars_Cipher.ipynb\" target=\"_parent\"><img src=\"https://colab.research.google.com/assets/colab-badge.svg\" alt=\"Open In Colab\"/></a>"
      ]
    },
    {
      "cell_type": "code",
      "execution_count": 12,
      "metadata": {
        "id": "hOFM2qnA18Mh"
      },
      "outputs": [],
      "source": [
        "alphabet = ['a', 'b', 'c', 'd', 'e', 'f', 'g', 'h', 'i', 'j', 'k', 'l', 'm', 'n', 'o', 'p',\n",
        "            'q', 'r', 's', 't', 'u', 'v', 'w', 'x', 'y', 'z', 'a', 'b', 'c', 'd', 'e', 'f', 'g', 'h', 'i', 'j', 'k', 'l', 'm', 'n', 'o', 'p',\n",
        "            'q', 'r', 's', 't', 'u', 'v', 'w', 'x', 'y', 'z']"
      ]
    },
    {
      "cell_type": "code",
      "source": [
        "should_continue = True\n",
        "\n",
        "while should_continue:\n",
        "\n",
        "  direction = input(\"Type 'encode' to encrypt, type 'decode' to decrypt: \\n\" )\n",
        "  text = input(\"Type your message: \\n\").lower()\n",
        "  shift = int(input(\"Type the shift number: \\n\"))\n",
        "\n",
        "  shift = shift % 26\n",
        "  caesar(start_text = text, shift_amount = shift, cipher_direction = direction)\n",
        "\n",
        "  result = input(\"Type 'yes' if you want to go again. Othewise type 'no'. \\n\")\n",
        "  if result == \"no\":\n",
        "    should_continue = False\n",
        "    print(\"Goodbye\")"
      ],
      "metadata": {
        "colab": {
          "base_uri": "https://localhost:8080/"
        },
        "id": "jBh_drQV2tSg",
        "outputId": "0ee7e0de-21af-4f97-9975-6e001d8557e2"
      },
      "execution_count": 60,
      "outputs": [
        {
          "output_type": "stream",
          "name": "stdout",
          "text": [
            "Type 'encode' to encrypt, type 'decode' to decrypt: \n",
            "encode\n",
            "Type your message: \n",
            "hello\n",
            "Type the shift number: \n",
            "1\n",
            "The encoded text is ifmmp\n",
            "Type 'yes' if you want to go again. Othewise type 'no'. \n",
            "no\n",
            "Goodbye\n"
          ]
        }
      ]
    },
    {
      "cell_type": "code",
      "source": [
        "# Encrypting the text\n",
        "\n",
        "def encrypt(text, shift):\n",
        "  cipher_text = \"\"\n",
        "  for letter in text:\n",
        "    position = alphabet.index(letter)\n",
        "    new_position = position + shift\n",
        "    new_letter = alphabet[new_position]\n",
        "    cipher_text += new_letter\n",
        "  print(f\"The encoded text is {cipher_text}\")\n",
        "\n",
        "# Decrypting the text\n",
        "\n",
        "def decrypt(cipher_text, shift):\n",
        "  text = \"\"\n",
        "  for letter in cipher_text:\n",
        "    position = alphabet.index(letter)\n",
        "    previous_position = position - shift\n",
        "    previous_letter = alphabet[previous_position]\n",
        "    text += previous_letter\n",
        "  print(f\"The decoded text is {text}\")\n",
        "\n",
        "\n",
        "if direction == \"encode\":\n",
        "  encrypt(text, shift)\n",
        "elif direction == \"decode\":\n",
        "  decrypt(text, shift)"
      ],
      "metadata": {
        "colab": {
          "base_uri": "https://localhost:8080/"
        },
        "id": "uyqPjEGh3At6",
        "outputId": "df2a5598-9912-4824-d04e-449f4d2e9c6f"
      },
      "execution_count": 37,
      "outputs": [
        {
          "output_type": "stream",
          "name": "stdout",
          "text": [
            "The decoded text is bcde\n"
          ]
        }
      ]
    },
    {
      "cell_type": "code",
      "source": [
        "# Caesars Function\n",
        "\n",
        "def caesar(start_text, shift_amount, cipher_direction):\n",
        "  end_text = \"\"\n",
        "  for letter in start_text:\n",
        "    position = alphabet.index(letter)\n",
        "\n",
        "    if cipher_direction == \"encode\":\n",
        "      new_position = position + shift_amount\n",
        "      new_letter = alphabet[new_position]\n",
        "      end_text += new_letter\n",
        "\n",
        "    elif cipher_direction == \"decode\":\n",
        "      previous_position = position - shift_amount\n",
        "      new_letter = alphabet[previous_position]\n",
        "      end_text += new_letter\n",
        "\n",
        "  print(f\"The {cipher_direction}d text is {end_text}\")"
      ],
      "metadata": {
        "id": "pfNXfe_J_p4_"
      },
      "execution_count": 58,
      "outputs": []
    },
    {
      "cell_type": "code",
      "source": [
        "caesar(start_text = text, shift_amount = shift, cipher_direction = direction)"
      ],
      "metadata": {
        "id": "qoizSU5mDAHM",
        "outputId": "d1f9c78b-a73b-4deb-d2a2-bbd5dc69a7ea",
        "colab": {
          "base_uri": "https://localhost:8080/"
        }
      },
      "execution_count": 59,
      "outputs": [
        {
          "output_type": "stream",
          "name": "stdout",
          "text": [
            "The encoded text is spwwz\n"
          ]
        }
      ]
    }
  ]
}