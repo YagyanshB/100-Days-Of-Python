{
  "nbformat": 4,
  "nbformat_minor": 0,
  "metadata": {
    "colab": {
      "provenance": [],
      "authorship_tag": "ABX9TyPRT0KVWLFv3GEt55LQwrtq",
      "include_colab_link": true
    },
    "kernelspec": {
      "name": "python3",
      "display_name": "Python 3"
    },
    "language_info": {
      "name": "python"
    }
  },
  "cells": [
    {
      "cell_type": "markdown",
      "metadata": {
        "id": "view-in-github",
        "colab_type": "text"
      },
      "source": [
        "<a href=\"https://colab.research.google.com/github/YagyanshB/100-Days-Of-Python/blob/main/Day_10_Exercises.ipynb\" target=\"_parent\"><img src=\"https://colab.research.google.com/assets/colab-badge.svg\" alt=\"Open In Colab\"/></a>"
      ]
    },
    {
      "cell_type": "code",
      "execution_count": 1,
      "metadata": {
        "id": "8Io8JjzX4g0A"
      },
      "outputs": [],
      "source": [
        "# Functions with Outputs"
      ]
    },
    {
      "cell_type": "code",
      "source": [
        "def my_function():\n",
        "  result = 3*2\n",
        "  return result"
      ],
      "metadata": {
        "id": "RoDdByy98ORw"
      },
      "execution_count": 2,
      "outputs": []
    },
    {
      "cell_type": "code",
      "source": [
        "output = my_function()"
      ],
      "metadata": {
        "id": "b_LmFmBC8ZZi"
      },
      "execution_count": 4,
      "outputs": []
    },
    {
      "cell_type": "code",
      "source": [
        "output"
      ],
      "metadata": {
        "colab": {
          "base_uri": "https://localhost:8080/"
        },
        "id": "3p6rFp-V8aPf",
        "outputId": "2f54a62f-82ca-4576-c03d-e192beda28a8"
      },
      "execution_count": 5,
      "outputs": [
        {
          "output_type": "execute_result",
          "data": {
            "text/plain": [
              "6"
            ]
          },
          "metadata": {},
          "execution_count": 5
        }
      ]
    },
    {
      "cell_type": "code",
      "source": [
        "def format_name(fore_name, sur_name):\n",
        "  formatted_f_name = fore_name.title()\n",
        "  formatted_l_name = sur_name.title()\n",
        "\n",
        "  print(f\"The formatted name is {formatted_f_name} {formatted_l_name}.\")"
      ],
      "metadata": {
        "id": "kC5pArsT8hsP"
      },
      "execution_count": 20,
      "outputs": []
    },
    {
      "cell_type": "code",
      "source": [
        "format_name(\"YAGYAnsh\", \"BAgri\")"
      ],
      "metadata": {
        "colab": {
          "base_uri": "https://localhost:8080/"
        },
        "id": "97OIvqk89Q7p",
        "outputId": "d2872d96-982c-4271-a74d-9be1b98ea908"
      },
      "execution_count": 21,
      "outputs": [
        {
          "output_type": "stream",
          "name": "stdout",
          "text": [
            "The formatted name is Yagyansh Bagri.\n"
          ]
        }
      ]
    },
    {
      "cell_type": "code",
      "source": [
        "def format_name(fore_name, sur_name):\n",
        "  formatted_f_name = fore_name.title()\n",
        "  formatted_l_name = sur_name.title()\n",
        "\n",
        "  return f\"The formatted name is {formatted_f_name} {formatted_l_name}.\"\n",
        "\n",
        "formatted_string = format_name(\"YAGYAnsh\", \"BAgRI\")\n",
        "\n",
        "print(formatted_string)"
      ],
      "metadata": {
        "colab": {
          "base_uri": "https://localhost:8080/"
        },
        "id": "RuzHZoHj9qNC",
        "outputId": "58fa1581-d446-41cc-d507-53c21d2bb89a"
      },
      "execution_count": 22,
      "outputs": [
        {
          "output_type": "stream",
          "name": "stdout",
          "text": [
            "The formatted name is Yagyansh Bagri.\n"
          ]
        }
      ]
    },
    {
      "cell_type": "code",
      "source": [
        "def format_name(fore_name, sur_name):\n",
        "\n",
        "  if fore_name == \"\" or sur_name == \"\":\n",
        "    return \"You didn't provide valid inputs.\"\n",
        "\n",
        "  formatted_f_name = fore_name.title()\n",
        "  formatted_l_name = sur_name.title()\n",
        "\n",
        "  return f\"The formatted name is {formatted_f_name} {formatted_l_name}.\"\n",
        "\n",
        "format_name(input(\"What is your fore name? \\n\"), input(\"What is your sur name? \\n\"))\n",
        "\n",
        "\n",
        ""
      ],
      "metadata": {
        "colab": {
          "base_uri": "https://localhost:8080/",
          "height": 107
        },
        "id": "ASa-K6OL-zR-",
        "outputId": "c3781463-a37b-4fa7-d4d3-a1ba39ead200"
      },
      "execution_count": 25,
      "outputs": [
        {
          "name": "stdout",
          "output_type": "stream",
          "text": [
            "What is your fore name? \n",
            "\n",
            "What is your sur name? \n",
            "\n"
          ]
        },
        {
          "output_type": "execute_result",
          "data": {
            "text/plain": [
              "\"You didn't provide valid inputs.\""
            ],
            "application/vnd.google.colaboratory.intrinsic+json": {
              "type": "string"
            }
          },
          "metadata": {},
          "execution_count": 25
        }
      ]
    }
  ]
}