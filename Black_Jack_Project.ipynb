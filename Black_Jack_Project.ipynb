{
  "nbformat": 4,
  "nbformat_minor": 0,
  "metadata": {
    "colab": {
      "provenance": [],
      "authorship_tag": "ABX9TyOO3oAIIOpbbL04e2whICMO",
      "include_colab_link": true
    },
    "kernelspec": {
      "name": "python3",
      "display_name": "Python 3"
    },
    "language_info": {
      "name": "python"
    }
  },
  "cells": [
    {
      "cell_type": "markdown",
      "metadata": {
        "id": "view-in-github",
        "colab_type": "text"
      },
      "source": [
        "<a href=\"https://colab.research.google.com/github/YagyanshB/100-Days-Of-Python/blob/main/Black_Jack_Project.ipynb\" target=\"_parent\"><img src=\"https://colab.research.google.com/assets/colab-badge.svg\" alt=\"Open In Colab\"/></a>"
      ]
    },
    {
      "cell_type": "code",
      "execution_count": 50,
      "metadata": {
        "colab": {
          "base_uri": "https://localhost:8080/"
        },
        "id": "cIIyfpGFm8vi",
        "outputId": "2d5912d2-df9f-47fd-dc1b-d6feea7aac51"
      },
      "outputs": [
        {
          "name": "stdout",
          "output_type": "stream",
          "text": [
            "Do you want to play another game of black jack? Type 'y' or 'n' \n",
            "y\n",
            "Your cards are [10, 10] and current score is 20.\n",
            "The dealer's first cards is 11.\n",
            "Type 'y' to get another card, type 'n' to pass.n\n",
            "Your final hand is [10, 10] and your final score is 20.\n",
            "Dealers final hand is [11, 6] and your final score is 17.\n",
            "You win as your score is higher than the dealer.\n",
            "Do you want to play another game of black jack? Type 'y' or 'n' \n",
            "n\n"
          ]
        }
      ],
      "source": [
        "# Black Jack Game\n",
        "\n",
        "# Importing libraries\n",
        "\n",
        "\"\"\"Importing the random module\"\"\"\n",
        "import random\n",
        "\n",
        "def deal_card():\n",
        "  \"\"\"Returns a random card from the deck.\"\"\"\n",
        "  cards = [11, 2, 3, 4, 5, 6, 7, 8, 9 , 10, 10, 10, 10]\n",
        "  card = random.choice(cards)\n",
        "  return card\n",
        "\n",
        "def calculate_score(cards):\n",
        "  \"\"\" A function that taken in the cards as input and returns their sum.\"\"\"\n",
        "  if sum(cards) == 21 and len(cards) == 2:\n",
        "    return 0\n",
        "  elif sum(cards) > 21 and 11 in cards:\n",
        "    cards.remove(11)\n",
        "    cards.append(1)\n",
        "  return sum(cards)\n",
        "\n",
        "\n",
        "def compare(user_score, dealer_score):\n",
        "  if user_score == dealer_score:\n",
        "    return \"Draw\"\n",
        "  elif dealer_score == 0:\n",
        "    return \"You loose as the dealer has Blackjack.\"\n",
        "  elif user_score == 0:\n",
        "    return \"You win as you have a Blackjack.\"\n",
        "  elif user_score > 21:\n",
        "    return \"You loose as you went above 21.\"\n",
        "  elif dealer_score > 21:\n",
        "    return \"You win as the dealer went above 21.\"\n",
        "  elif user_score > dealer_score:\n",
        "    return \"You win as your score is higher than the dealer.\"\n",
        "  else:\n",
        "    return \"You loose.\"\n",
        "\n",
        "\n",
        "def play_game():\n",
        "\n",
        "  user_cards = []\n",
        "  dealer_cards = []\n",
        "  is_game_over = False\n",
        "\n",
        "  for _ in range(2):\n",
        "    # new_card = deal_card()\n",
        "    user_cards.append(deal_card())\n",
        "    dealer_cards.append(deal_card())\n",
        "\n",
        "  while not is_game_over:\n",
        "    user_score = calculate_score(user_cards)\n",
        "    dealer_score = calculate_score(dealer_cards)\n",
        "\n",
        "    print(f\"Your cards are {user_cards} and current score is {user_score}.\")\n",
        "    print(f\"The dealer's first cards is {dealer_cards[0]}.\")\n",
        "\n",
        "    if user_score == 0 or dealer_score ==0 or user_score > 21:\n",
        "      is_game_over = True\n",
        "\n",
        "    else:\n",
        "      user_should_deal = input(\"Type 'y' to get another card, type 'n' to pass.\")\n",
        "      if user_should_deal == 'y':\n",
        "        user_cards.append(deal_card())\n",
        "      else:\n",
        "        is_game_over = True\n",
        "\n",
        "  while dealer_score < 17 and dealer_score !=0:\n",
        "    dealer_cards.append(deal_card())\n",
        "    dealer_score = calculate_score(dealer_cards)\n",
        "\n",
        "  print(f\"Your final hand is {user_cards} and your final score is {user_score}.\")\n",
        "  print(f\"Dealers final hand is {dealer_cards} and your final score is {dealer_score}.\")\n",
        "\n",
        "  print(compare(user_score, dealer_score))\n",
        "\n",
        "  cards = [11, 2, 3, 4, 5, 6, 7, 8, 9 , 10, 10, 10, 10]\n",
        "\n",
        "while input(\"Do you want to play a game of black jack? Type 'y' or 'n' \\n\") == 'y':\n",
        "  play_game()"
      ]
    }
  ]
}