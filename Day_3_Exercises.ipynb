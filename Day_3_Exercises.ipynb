{
  "nbformat": 4,
  "nbformat_minor": 0,
  "metadata": {
    "colab": {
      "provenance": [],
      "authorship_tag": "ABX9TyM63DjDmhM46J6+Pid4yw5e",
      "include_colab_link": true
    },
    "kernelspec": {
      "name": "python3",
      "display_name": "Python 3"
    },
    "language_info": {
      "name": "python"
    }
  },
  "cells": [
    {
      "cell_type": "markdown",
      "metadata": {
        "id": "view-in-github",
        "colab_type": "text"
      },
      "source": [
        "<a href=\"https://colab.research.google.com/github/YagyanshB/100-Days-Of-Python/blob/main/Day_3_Exercises.ipynb\" target=\"_parent\"><img src=\"https://colab.research.google.com/assets/colab-badge.svg\" alt=\"Open In Colab\"/></a>"
      ]
    },
    {
      "cell_type": "code",
      "execution_count": 10,
      "metadata": {
        "colab": {
          "base_uri": "https://localhost:8080/"
        },
        "id": "JHFpwEKsqFRN",
        "outputId": "5038a3d5-eca3-4718-e259-e21adc214ada"
      },
      "outputs": [
        {
          "output_type": "stream",
          "name": "stdout",
          "text": [
            "Please enter an odd or even number of your choice: \n",
            "\n",
            "8921\n",
            "The number you have inserted is ODD.\n"
          ]
        }
      ],
      "source": [
        "# A simple program to check if a given number is ODD or EVEN\n",
        "\n",
        "\n",
        "number = int(input(\"Please enter an odd or even number of your choice: \\n\\n\"))\n",
        "\n",
        "if number % 2 == 0:\n",
        "  print(\"The number you have inserted is EVEN.\")\n",
        "\n",
        "else:\n",
        "  print(\"The number you have inserted is ODD.\")"
      ]
    },
    {
      "cell_type": "code",
      "source": [
        "# Upgraded version of the BMI Calculator\n",
        "\n",
        "# Enter your height in metres:\n",
        "\n",
        "height = float(input(\"Please enter your height in metres: \\n\"))\n",
        "\n",
        "weight = float(input(\"Please enter your weight in kg: \\n\"))\n",
        "\n",
        "bmi = round(weight/(height*height),2)\n",
        "\n",
        "if bmi < 18.5:\n",
        "  print(f\"Your {bmi} indicates that you are underweight.\")\n",
        "elif bmi < 25:\n",
        "  print(f\"Your {bmi} indicates that you are at a normal weight.\")\n",
        "elif bmi < 30:\n",
        "  print(f\"Your {bmi} indicates that you are slightly overweight.\")\n",
        "elif bmi < 35:\n",
        "  print(f\"Your {bmi} indicates that you are obese.\")\n",
        "else:\n",
        "  print(f\"Your {bmi} indicates that you are clinically obese.\")"
      ],
      "metadata": {
        "colab": {
          "base_uri": "https://localhost:8080/"
        },
        "id": "9mqOE5bPsydv",
        "outputId": "4996714b-a8c4-4883-e74a-6823403c191a"
      },
      "execution_count": 14,
      "outputs": [
        {
          "output_type": "stream",
          "name": "stdout",
          "text": [
            "Please enter your height in metres: \n",
            "1.80\n",
            "Please enter your weight in kg: \n",
            "75\n",
            "Your 23.15 indicates that you are at a normal weight.\n"
          ]
        }
      ]
    },
    {
      "cell_type": "code",
      "source": [
        "# Leap Year Exercise\n",
        "\n",
        "# Write the year of your choice you want to check\n",
        "\n",
        "year = int(input(\"Please enter the year of your choice: \\n\"))\n",
        "\n",
        "if year % 4 == 0:\n",
        "  if year % 100 == 0:\n",
        "    if year % 400 == 0:\n",
        "      print(f\"The {year} year is a Leap Year.\")\n",
        "    else:\n",
        "      print(f\"The year {year} is not a Leap Year.\")\n",
        "  else:\n",
        "    print(f\"The year {year} is a Leap Year.\")\n",
        "else:\n",
        "  print(f\"The year {year} is not a Leap Year.\")"
      ],
      "metadata": {
        "colab": {
          "base_uri": "https://localhost:8080/"
        },
        "id": "TBmW0RV7_M9U",
        "outputId": "31a6289f-cc99-4ac5-c937-a03255b5bd38"
      },
      "execution_count": 17,
      "outputs": [
        {
          "output_type": "stream",
          "name": "stdout",
          "text": [
            "Please enter the year of your choice: \n",
            "2000\n",
            "The 2000 year is a Leap Year.\n"
          ]
        }
      ]
    },
    {
      "cell_type": "code",
      "source": [
        "# Building a program to calculate the price of a Pizza\n",
        "\n",
        "print(\"Welcome to the Pythonizza Centre: \\n\")\n",
        "\n",
        "size = input(\"Please enter what size pizza you want? S, M or L \\n\")\n",
        "\n",
        "add_pepperonni = input(\"Please choose Yes 'Y' or No 'N' to add pepperonni: \\n\")\n",
        "\n",
        "add_extra_cheese = input(\"Please choose Yes 'Y' or No 'N' to add extra cheese: \\n\")\n",
        "\n",
        "total_bill = 0\n",
        "\n",
        "if size == \"S\":\n",
        "  total_bill += 15\n",
        "elif size == \"M\":\n",
        "  total_bill += 20\n",
        "else:\n",
        "  total_bill += 25\n",
        "\n",
        "if add_pepperonni == \"Y\" and size == \"S\":\n",
        "  total_bill += 2\n",
        "elif add_pepperonni == \"Y\" and size ==\"M\" or size ==\"L\":\n",
        "  total_bill += 3\n",
        "\n",
        "if add_extra_cheese == \"Y\":\n",
        "  total_bill +=1\n",
        "\n",
        "\n",
        "print(f\"The total amount you owe Joe's Pizz is ${total_bill}.\")\n",
        "\n"
      ],
      "metadata": {
        "colab": {
          "base_uri": "https://localhost:8080/"
        },
        "id": "k5vKFpGZBpi-",
        "outputId": "41523224-72e3-41b1-9088-eaf5e9d420e0"
      },
      "execution_count": 20,
      "outputs": [
        {
          "output_type": "stream",
          "name": "stdout",
          "text": [
            "Welcome to the Pythonizza Centre: \n",
            "\n",
            "Please enter what size pizza you want? S, M or L \n",
            "L\n",
            "Please choose Yes 'Y' or No 'N' to add pepperonni: \n",
            "Y\n",
            "Please choose Yes 'Y' or No 'N' to add extra cheese: \n",
            "Y\n",
            "The total amount you owe Joe's Pizz is $29.\n"
          ]
        }
      ]
    },
    {
      "cell_type": "code",
      "source": [
        "# Building an interractive love calculator; although please don't take this too seriously\n",
        "\n",
        "print(\"Welcome to the Lova Calculator Simulation: \\n\")\n",
        "\n",
        "name_one = input(\"Please enter your name: \\n\")\n",
        "name_two = input(\"Please enter the name of your significant other: \\n\")\n",
        "\n",
        "combined_names = name_one + name_two\n",
        "lower_names = combined_names.lower()\n",
        "\n",
        "t = lower_names.count('t')\n",
        "r = lower_names.count('r')\n",
        "u = lower_names.count('u')\n",
        "e = lower_names.count('e')\n",
        "\n",
        "l = lower_names.count('l')\n",
        "o = lower_names.count('o')\n",
        "v = lower_names.count('v')\n",
        "e = lower_names.count('e')\n",
        "\n",
        "first_digit = t + r + u + e\n",
        "second_digit = l + o + v + e\n",
        "\n",
        "score = str(first_digit) + str(second_digit)\n",
        "\n",
        "print(f\"Your love score is {score}.\")"
      ],
      "metadata": {
        "colab": {
          "base_uri": "https://localhost:8080/"
        },
        "id": "RiaEdEEyTS9G",
        "outputId": "12202151-e677-49ee-b382-58a4d67052d4"
      },
      "execution_count": 21,
      "outputs": [
        {
          "output_type": "stream",
          "name": "stdout",
          "text": [
            "Welcome to the Lova Calculator Simulation: \n",
            "\n",
            "Please enter your name: \n",
            "David Beckham\n",
            "Please enter the name of your significant other: \n",
            "Victoria Beckham\n",
            "Your love score is 45.\n"
          ]
        }
      ]
    }
  ]
}