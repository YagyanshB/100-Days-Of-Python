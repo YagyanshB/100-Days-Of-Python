{
  "nbformat": 4,
  "nbformat_minor": 0,
  "metadata": {
    "colab": {
      "provenance": [],
      "authorship_tag": "ABX9TyNHBaPV8WKQoXzuDs/iR2f6",
      "include_colab_link": true
    },
    "kernelspec": {
      "name": "python3",
      "display_name": "Python 3"
    },
    "language_info": {
      "name": "python"
    }
  },
  "cells": [
    {
      "cell_type": "markdown",
      "metadata": {
        "id": "view-in-github",
        "colab_type": "text"
      },
      "source": [
        "<a href=\"https://colab.research.google.com/github/YagyanshB/100-Days-Of-Python/blob/main/Day_13_Exercises.ipynb\" target=\"_parent\"><img src=\"https://colab.research.google.com/assets/colab-badge.svg\" alt=\"Open In Colab\"/></a>"
      ]
    },
    {
      "cell_type": "code",
      "execution_count": 6,
      "metadata": {
        "colab": {
          "base_uri": "https://localhost:8080/"
        },
        "id": "oEjimhP2dKIj",
        "outputId": "cdbdcf8d-20f1-49fa-a98a-407fee9f8148"
      },
      "outputs": [
        {
          "output_type": "stream",
          "name": "stdout",
          "text": [
            "You got it.\n"
          ]
        }
      ],
      "source": [
        "# Debugging Problem\n",
        "\n",
        "def my_function():\n",
        "  for i in range(1,21):\n",
        "    if i == 20:\n",
        "      print(\"You got it.\")\n",
        "\n",
        "my_function()"
      ]
    },
    {
      "cell_type": "code",
      "source": [
        "# Reproducing the bug\n",
        "\n",
        "import random\n",
        "\n",
        "dice_imgs = [\"1\", \"2\", \"3\", \"4\", \"5\", \"6\"]\n",
        "dice_num = random.randint(0,5)\n",
        "\n",
        "dice_imgs[dice_num]"
      ],
      "metadata": {
        "colab": {
          "base_uri": "https://localhost:8080/",
          "height": 35
        },
        "id": "Fy273FJ3duI_",
        "outputId": "7463581c-cd2f-42c4-d39f-3bbe932031cc"
      },
      "execution_count": 33,
      "outputs": [
        {
          "output_type": "execute_result",
          "data": {
            "text/plain": [
              "'2'"
            ],
            "application/vnd.google.colaboratory.intrinsic+json": {
              "type": "string"
            }
          },
          "metadata": {},
          "execution_count": 33
        }
      ]
    },
    {
      "cell_type": "code",
      "source": [
        "dice_imgs[dice_num]"
      ],
      "metadata": {
        "colab": {
          "base_uri": "https://localhost:8080/",
          "height": 35
        },
        "id": "Vij9drHYey58",
        "outputId": "89d1dfd1-bf1d-45bf-b327-0f4494b343df"
      },
      "execution_count": 29,
      "outputs": [
        {
          "output_type": "execute_result",
          "data": {
            "text/plain": [
              "'1'"
            ],
            "application/vnd.google.colaboratory.intrinsic+json": {
              "type": "string"
            }
          },
          "metadata": {},
          "execution_count": 29
        }
      ]
    },
    {
      "cell_type": "code",
      "source": [
        "# Pretending to be the computer\n",
        "\n",
        "year = int(input(\"What's your year of birth?\\n\"))\n",
        "\n",
        "if year > 1980 and year < 1994:\n",
        "  print(\"You are a millenial!\")\n",
        "elif year >= 1994:\n",
        "  print(\"You are a Gen Z.\")"
      ],
      "metadata": {
        "colab": {
          "base_uri": "https://localhost:8080/"
        },
        "id": "E6m-z1Xkjdcl",
        "outputId": "d7b5d0a6-b25d-4bd3-d18b-22ce823626fd"
      },
      "execution_count": 36,
      "outputs": [
        {
          "output_type": "stream",
          "name": "stdout",
          "text": [
            "What's your year of birth?\n",
            "1994\n",
            "You are a Gen Z.\n"
          ]
        }
      ]
    },
    {
      "cell_type": "code",
      "source": [
        "# Fixing Errors and Watching for Red Underlines\n",
        "\n",
        "age = int(input(\"How old are you? \\n\"))\n",
        "\n",
        "if age > 18:\n",
        "  print(f\"You can drive from at age {age}.\")\n",
        "else:\n",
        "  print(f\"You can drive after the age of 18.\")"
      ],
      "metadata": {
        "colab": {
          "base_uri": "https://localhost:8080/"
        },
        "id": "G_cKeCQTmEpi",
        "outputId": "56935983-9f22-4bfa-842c-b34f7e00a09c"
      },
      "execution_count": 39,
      "outputs": [
        {
          "output_type": "stream",
          "name": "stdout",
          "text": [
            "How old are you? \n",
            "8\n",
            "You can drive after the age of 18.\n"
          ]
        }
      ]
    },
    {
      "cell_type": "code",
      "source": [
        "# Squashing bugs with a Print statement\n",
        "\n",
        "pages = 0\n",
        "words_per_page = 0\n",
        "pages = int(input(\"Number of pages: \\n\"))\n",
        "words_per_page = int(input(\"Number of words per page: \\n\"))\n",
        "\n",
        "total_words = pages * words_per_page\n",
        "\n",
        "print(f\"The total number of words is {total_words} words.\")"
      ],
      "metadata": {
        "colab": {
          "base_uri": "https://localhost:8080/"
        },
        "id": "1f896Anwm2__",
        "outputId": "0b449dfc-b67a-4e00-ef2e-c5a371f7526d"
      },
      "execution_count": 45,
      "outputs": [
        {
          "output_type": "stream",
          "name": "stdout",
          "text": [
            "Number of pages: \n",
            "1000\n",
            "Number of words per page: \n",
            "490\n",
            "The total number of words is 490000 words.\n"
          ]
        }
      ]
    },
    {
      "cell_type": "code",
      "source": [
        "# Using a debugger\n",
        "\n",
        "def mutate(a_list):\n",
        "\n",
        "  b_list = []\n",
        "\n",
        "  for item in a_list:\n",
        "    new_item = item * 2\n",
        "    b_list.append(new_item)\n",
        "  print(b_list)\n",
        "\n",
        "mutate([1,2,3,5,8,13])"
      ],
      "metadata": {
        "colab": {
          "base_uri": "https://localhost:8080/"
        },
        "id": "w7tGhIxwnrxF",
        "outputId": "b0e70ec4-0978-45ea-ad7a-b2b5ffd4e878"
      },
      "execution_count": 51,
      "outputs": [
        {
          "output_type": "stream",
          "name": "stdout",
          "text": [
            "[2, 4, 6, 10, 16, 26]\n"
          ]
        }
      ]
    }
  ]
}