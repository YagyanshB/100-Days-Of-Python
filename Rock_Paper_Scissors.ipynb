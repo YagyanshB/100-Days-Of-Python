{
  "nbformat": 4,
  "nbformat_minor": 0,
  "metadata": {
    "colab": {
      "provenance": [],
      "authorship_tag": "ABX9TyNtNPx+IAJ+HBGefCD8F3Yb",
      "include_colab_link": true
    },
    "kernelspec": {
      "name": "python3",
      "display_name": "Python 3"
    },
    "language_info": {
      "name": "python"
    }
  },
  "cells": [
    {
      "cell_type": "markdown",
      "metadata": {
        "id": "view-in-github",
        "colab_type": "text"
      },
      "source": [
        "<a href=\"https://colab.research.google.com/github/YagyanshB/100-Days-Of-Python/blob/main/Rock_Paper_Scissors.ipynb\" target=\"_parent\"><img src=\"https://colab.research.google.com/assets/colab-badge.svg\" alt=\"Open In Colab\"/></a>"
      ]
    },
    {
      "cell_type": "code",
      "execution_count": 20,
      "metadata": {
        "colab": {
          "base_uri": "https://localhost:8080/"
        },
        "id": "shRe88j9uhbH",
        "outputId": "cd648cf6-ed9e-4b38-f1e8-9640fb3ff12c"
      },
      "outputs": [
        {
          "output_type": "stream",
          "name": "stdout",
          "text": [
            "What option would you like to choose? \n",
            "\n",
            "Type 0 for Rock, 1 for Paper and 2 for Scissors \n",
            "\n",
            "2\n",
            "The computer wins on this occasion as Rock beats Scissor.\n"
          ]
        }
      ],
      "source": [
        "# Creating a program to play the game Rock, Paper & Scissors\n",
        "\n",
        "# Importing the random module\n",
        "\n",
        "import random\n",
        "\n",
        "player_choice = int(input(\"What option would you like to choose? \\n\\nType 0 for Rock, 1 for Paper and 2 for Scissors \\n\\n\"))\n",
        "\n",
        "computer_choice = random.randint(0,2)\n",
        "\n",
        "if player_choice == 0 and computer_choice == 0:\n",
        "  print(\"You both chose Rock leading it to be a draw\")\n",
        "elif player_choice == 0 and computer_choice == 1:\n",
        "  print(\"The computer wins on this occasion as Paper beats Rock.\")\n",
        "elif player_choice == 0 and computer_choice == 2:\n",
        "   print(\"The player wins on this occasion as Rock beats Scissors.\")\n",
        "elif player_choice == 1 and computer_choice == 1:\n",
        "  print(\"You both chose Paper leading it to be a draw\")\n",
        "elif player_choice == 1 and computer_choice == 2:\n",
        "  print(\"The computer wins on this occasion as Scissors beats Paper.\")\n",
        "elif player_choice == 1 and computer_choice == 0:\n",
        "  print(\"The player wins on this occasion as Paper beats Rock.\")\n",
        "elif player_choice == 2 and computer_choice == 2:\n",
        "  print(\"You both chose Scissors leading it to be a draw\")\n",
        "elif player_choice == 2 and computer_choice == 1:\n",
        "  print(\"The player wins on this occasion as Scissors beats Paper.\")\n",
        "elif player_choice == 2 and computer_choice == 0:\n",
        "  print(\"The computer wins on this occasion as Rock beats Scissor.\")\n",
        "else:\n",
        "  print(\"You have chosen an invalid option.\")\n"
      ]
    },
    {
      "cell_type": "code",
      "source": [],
      "metadata": {
        "id": "tMGz9xfrzKwX"
      },
      "execution_count": null,
      "outputs": []
    }
  ]
}